{
 "cells": [
  {
   "cell_type": "code",
   "execution_count": null,
   "id": "73d14aa8-9cc9-4dbb-9bc3-5b1c96c3b722",
   "metadata": {},
   "outputs": [],
   "source": []
  },
  {
   "cell_type": "code",
   "execution_count": null,
   "id": "d9a30fa3-2c3f-479c-9301-0bba6c11808c",
   "metadata": {},
   "outputs": [],
   "source": []
  },
  {
   "cell_type": "code",
   "execution_count": 1,
   "id": "1b7ea71b-2bca-4db2-be1b-d7b2ff99bfa9",
   "metadata": {},
   "outputs": [
    {
     "data": {
      "text/plain": [
       "<_io.TextIOWrapper name='D:\\\\Coding_py_c_vscode\\\\hello.py' mode='r' encoding='cp936'>"
      ]
     },
     "execution_count": 1,
     "metadata": {},
     "output_type": "execute_result"
    }
   ],
   "source": [
    "open(r\"D:\\Coding_py_c_vscode\\hello.py\",'r')"
   ]
  },
  {
   "cell_type": "code",
   "execution_count": 3,
   "id": "2b5ac84b-edb3-4e9b-a6de-92c51a51442f",
   "metadata": {},
   "outputs": [
    {
     "name": "stdout",
     "output_type": "stream",
     "text": [
      "def say_hello():\n",
      "    print(\"Hello from my module!\")\n"
     ]
    }
   ],
   "source": [
    "with open(r\"D:\\Coding_py_c_vscode\\hello.py\",'r',encoding = 'utf-8') as file:\n",
    "    content = file.read()\n",
    "    print(content)"
   ]
  },
  {
   "cell_type": "code",
   "execution_count": null,
   "id": "64a738a0-4de8-4ca1-b241-227e9f3ac856",
   "metadata": {},
   "outputs": [],
   "source": [
    "data = b'\\x00\\x01\\x02\\x03'\n",
    "with open('example.bin','wb') as file:\n",
    "    file.write(data)\n",
    "    \n",
    "with open('example.bin','rb') as file:\n",
    "    content = file.read()\n",
    "    print(content)"
   ]
  },
  {
   "cell_type": "code",
   "execution_count": null,
   "id": "4d82c7f4-f68c-42f6-8b73-55c5555f71b8",
   "metadata": {},
   "outputs": [],
   "source": [
    "import csv\n",
    "\n",
    "with open('data.csv','r') as file:\n",
    "    reader = csv.reader(file)\n",
    "    for row in reader:\n",
    "        print(row)"
   ]
  },
  {
   "cell_type": "code",
   "execution_count": null,
   "id": "08c2cb5a-f818-4198-829d-2ba4f24580ac",
   "metadata": {},
   "outputs": [],
   "source": [
    "import csv\n",
    "\n",
    "rows = [['中文','age'],['minhaohui',24],['sunzhengs',19]]\n",
    "with open('data.csv','w',newline='',encoding = 'utf-8') as file:\n",
    "    writer = csv.writer(file)\n",
    "    writer.writerows(rows)"
   ]
  },
  {
   "cell_type": "code",
   "execution_count": 6,
   "id": "04fc2b86-21e7-42bb-a910-f9d9ea1d6168",
   "metadata": {},
   "outputs": [
    {
     "name": "stdout",
     "output_type": "stream",
     "text": [
      "Current Directory: D:\\Coding_py_c_vscode\n",
      "Directory content ['.ipynb_checkpoints', 'app.log', 'Genshin test.ipynb', 'hello.py', 'Honkai3.ipynb', 'run.py', 'test.txt', 'utils.py', '__pycache__']\n"
     ]
    }
   ],
   "source": [
    "#OS示例\n",
    "import os\n",
    "\n",
    "#获取当前工作目录\n",
    "current_directory = os.getcwd()\n",
    "print(\"Current Directory:\",current_directory)\n",
    "\n",
    "#列出目录内容\n",
    "list_dir = os.listdir('.')\n",
    "print(\"Directory content\",list_dir)\n",
    "\n",
    "#创建新目录\n",
    "if not os.path.exists('new_dir'):\n",
    "    os.makedirs('new_dir')"
   ]
  },
  {
   "cell_type": "code",
   "execution_count": 5,
   "id": "bc5df271-419b-4d9f-9003-8333391b1192",
   "metadata": {},
   "outputs": [
    {
     "data": {
      "text/plain": [
       "'D:\\\\Coding_py_c_vscode'"
      ]
     },
     "execution_count": 5,
     "metadata": {},
     "output_type": "execute_result"
    }
   ],
   "source": [
    "import os\n",
    "\n",
    "os.getcwd()"
   ]
  },
  {
   "cell_type": "code",
   "execution_count": 7,
   "id": "309a8cf3-8960-4f2e-9895-41609532ec07",
   "metadata": {},
   "outputs": [
    {
     "data": {
      "text/plain": [
       "['.ipynb_checkpoints',\n",
       " 'app.log',\n",
       " 'Genshin test.ipynb',\n",
       " 'hello.py',\n",
       " 'Honkai3.ipynb',\n",
       " 'new_dir',\n",
       " 'run.py',\n",
       " 'test.txt',\n",
       " 'utils.py',\n",
       " '__pycache__']"
      ]
     },
     "execution_count": 7,
     "metadata": {},
     "output_type": "execute_result"
    }
   ],
   "source": [
    "list_dir = os.listdir('.')\n",
    "list_dir"
   ]
  },
  {
   "cell_type": "code",
   "execution_count": 11,
   "id": "2a9ea6ef-6ea0-480e-ba8b-a70e2e6a2a24",
   "metadata": {},
   "outputs": [],
   "source": [
    "#创建新目录（文件夹）\n",
    "if not os.path.exists('nnew_dir'):\n",
    "    os.makedirs('nnew_dir')"
   ]
  },
  {
   "cell_type": "code",
   "execution_count": 12,
   "id": "033fc667-efc8-426d-b64f-a762201255db",
   "metadata": {},
   "outputs": [],
   "source": [
    "import logging\n",
    "\n",
    "#配置日志设置\n",
    "logging.basicConfig(filename = 'app.log',level=logging.INFO,format='%(asctime)s %(message)s')\n",
    "\n",
    "#记录日志信息\n",
    "logging.info('Info message')\n",
    "logging.warning('Warning message')"
   ]
  },
  {
   "cell_type": "code",
   "execution_count": 14,
   "id": "bc1a0053-3f89-4003-a9a9-33b6b826ab2e",
   "metadata": {},
   "outputs": [
    {
     "name": "stdout",
     "output_type": "stream",
     "text": [
      "[[ 0.88813854 -0.23214655 -1.32922473 ...  0.56204779 -0.93446119\n",
      "   1.21201384]\n",
      " [-0.55860247 -0.22172659  1.86360997 ...  0.03685548  0.37737039\n",
      "   0.56059842]\n",
      " [-1.33839837 -2.39475576  2.23388218 ... -0.80179358 -0.05359085\n",
      "  -0.56503462]\n",
      " ...\n",
      " [ 0.2235564   0.72548218 -0.01031522 ... -0.3977604   0.85509783\n",
      "  -0.67202477]\n",
      " [-0.190542   -0.44750787 -1.58035779 ...  1.77193105  0.20097994\n",
      "  -0.25427076]\n",
      " [-0.40400232  1.48313009 -0.2856596  ...  0.52719815 -0.24439967\n",
      "  -0.73167608]]\n"
     ]
    }
   ],
   "source": [
    "from joblib import dump,load\n",
    "import numpy as np\n",
    "\n",
    "#创建一个大型的Numpy数组\n",
    "array = np.random.randn(1000,1000)\n",
    "\n",
    "#使用joblib保存数组\n",
    "dump(array,'large_array.joblib')\n",
    "\n",
    "#加载保存的数组\n",
    "loaded_array = load('large_array.joblib')\n",
    "\n",
    "print(loaded_array)"
   ]
  },
  {
   "cell_type": "code",
   "execution_count": 15,
   "id": "10c326f3-1ead-45df-b3b7-4050a8876a6a",
   "metadata": {},
   "outputs": [
    {
     "data": {
      "text/plain": [
       "array([1, 2, 3, 4])"
      ]
     },
     "execution_count": 15,
     "metadata": {},
     "output_type": "execute_result"
    }
   ],
   "source": [
    "import numpy as np\n",
    "\n",
    "#从Python列表中创建数组\n",
    "np.array([1,2,3,4])"
   ]
  },
  {
   "cell_type": "code",
   "execution_count": 19,
   "id": "47d64d0a-9e22-4702-9ecc-8bfe1fcf14d9",
   "metadata": {},
   "outputs": [
    {
     "data": {
      "text/plain": [
       "array([[2., 2., 2., 2., 2., 2., 2., 2., 2.],\n",
       "       [2., 2., 2., 2., 2., 2., 2., 2., 2.],\n",
       "       [2., 2., 2., 2., 2., 2., 2., 2., 2.],\n",
       "       [2., 2., 2., 2., 2., 2., 2., 2., 2.],\n",
       "       [2., 2., 2., 2., 2., 2., 2., 2., 2.],\n",
       "       [2., 2., 2., 2., 2., 2., 2., 2., 2.],\n",
       "       [2., 2., 2., 2., 2., 2., 2., 2., 2.],\n",
       "       [2., 2., 2., 2., 2., 2., 2., 2., 2.],\n",
       "       [2., 2., 2., 2., 2., 2., 2., 2., 2.]])"
      ]
     },
     "execution_count": 19,
     "metadata": {},
     "output_type": "execute_result"
    }
   ],
   "source": [
    "#创建全0数组\n",
    "np.zeros((3,3))\n",
    "#创建全1数组并乘2\n",
    "np.ones((9,9))*2"
   ]
  },
  {
   "cell_type": "code",
   "execution_count": 20,
   "id": "e77f9ce2-a1fa-4c24-b909-c557a95e6565",
   "metadata": {},
   "outputs": [
    {
     "data": {
      "text/plain": [
       "array([0, 1, 2, 3, 4, 5, 6, 7, 8, 9])"
      ]
     },
     "execution_count": 20,
     "metadata": {},
     "output_type": "execute_result"
    }
   ],
   "source": [
    "#创建等差数组\n",
    "np.arange(10)"
   ]
  },
  {
   "cell_type": "code",
   "execution_count": 23,
   "id": "5c2458b4-fa21-4188-98cd-e33c8d82a3c7",
   "metadata": {},
   "outputs": [
    {
     "data": {
      "text/plain": [
       "array([[ 0,  1],\n",
       "       [ 2,  3],\n",
       "       [ 4,  5],\n",
       "       [ 6,  7],\n",
       "       [ 8,  9],\n",
       "       [10, 11]])"
      ]
     },
     "execution_count": 23,
     "metadata": {},
     "output_type": "execute_result"
    }
   ],
   "source": [
    "np.arange(12).reshape(6,2)"
   ]
  },
  {
   "cell_type": "code",
   "execution_count": 25,
   "id": "58da40db-e9da-4c2d-ac2e-f5fb2d1b503b",
   "metadata": {},
   "outputs": [],
   "source": [
    "arr = np.arange(12).reshape(6,2)"
   ]
  },
  {
   "cell_type": "code",
   "execution_count": 26,
   "id": "d49303b5-22c1-4acd-afe1-638dc368ffae",
   "metadata": {},
   "outputs": [
    {
     "data": {
      "text/plain": [
       "(6, 2)"
      ]
     },
     "execution_count": 26,
     "metadata": {},
     "output_type": "execute_result"
    }
   ],
   "source": [
    "arr.shape"
   ]
  },
  {
   "cell_type": "code",
   "execution_count": 27,
   "id": "65cec410-ea0d-45a0-815a-e574d53f1558",
   "metadata": {},
   "outputs": [
    {
     "data": {
      "text/plain": [
       "1"
      ]
     },
     "execution_count": 27,
     "metadata": {},
     "output_type": "execute_result"
    }
   ],
   "source": [
    "arr[0,1]\n",
    "# ls[0][1]"
   ]
  },
  {
   "cell_type": "code",
   "execution_count": 28,
   "id": "bcf5f89f-ef68-4086-b6e4-090271e56d3d",
   "metadata": {},
   "outputs": [
    {
     "data": {
      "text/plain": [
       "3"
      ]
     },
     "execution_count": 28,
     "metadata": {},
     "output_type": "execute_result"
    }
   ],
   "source": [
    "arr[1][1]"
   ]
  },
  {
   "cell_type": "code",
   "execution_count": 30,
   "id": "a36354b6-1303-46e9-86d8-914003263a7e",
   "metadata": {},
   "outputs": [
    {
     "data": {
      "text/plain": [
       "array([[0],\n",
       "       [2]])"
      ]
     },
     "execution_count": 30,
     "metadata": {},
     "output_type": "execute_result"
    }
   ],
   "source": [
    "arr[:2:1,:1]"
   ]
  },
  {
   "cell_type": "code",
   "execution_count": null,
   "id": "8f7d51fc-f34a-4153-adc9-e1ccb0709f2c",
   "metadata": {},
   "outputs": [],
   "source": [
    "#布尔索引\n",
    "#创建一个随机数组\n",
    "data = np.random.randn(5,5)\n",
    "#使用布尔索引选择大于0的元素\n",
    "positive_data = data[data > 0]\n",
    "print(\"Positive elements:\\n\",positive_data)"
   ]
  },
  {
   "cell_type": "code",
   "execution_count": null,
   "id": "9815a204-23ba-4a23-997a-429ab5fbea61",
   "metadata": {},
   "outputs": [],
   "source": [
    "#花式索引\n",
    "#创建一个随机数组\n",
    "data = np.arange(25).reshape(5,5)\n",
    "#使用花式索引重新排列数组的行\n",
    "rearanged_data = data[[4,2,1,3,0]]\n",
    "print(\"Rearanged rows:\\n\",rearanged_data)\n",
    "#使用花式索引同时选择特定的行和列\n",
    "selected_data = data[[4,2,1],[0,2,3]]\n",
    "print(\"Selected elements:\\n\",selected_data)"
   ]
  },
  {
   "cell_type": "code",
   "execution_count": null,
   "id": "4aca1593-452d-4be7-aae3-90953bf99616",
   "metadata": {},
   "outputs": [],
   "source": [
    "import numpy as np\n",
    "\n",
    "arr = np.array([1, 2, 3, 4, 5])  # 创建一个示例数组\n",
    "\n",
    "# 加法\n",
    "result = np.add(arr, 2)  # 对数组的每个元素都加上2\n",
    "print(\"加法结果：\", result)\n",
    "\n",
    "# 减法\n",
    "result = np.subtract(arr, 2)  # 对数组的每个元素都减去2\n",
    "print(\"减法结果：\", result)\n",
    "\n",
    "# 乘法\n",
    "result = np.multiply(arr, 2)  # 数组的每个元素都乘以2\n",
    "print(\"乘法结果：\", result)\n",
    "\n",
    "# 除法\n",
    "result = np.divide(arr, 2)  # 数组的每个元素都除以2\n",
    "print(\"除法结果：\", result)\n",
    "\n",
    "# 幂运算\n",
    "result = np.power(arr, 2)  # 数组的每个元素都平方\n",
    "print(\"幂运算结果：\", result)\n",
    "\n",
    "# 平方根\n",
    "result = np.sqrt(arr)  # 数组的每个元素都求平方根\n",
    "print(\"平方根结果：\", result)\n",
    "\n",
    "# 求正弦值\n",
    "result = np.sin(arr)  # 数组的每个元素都求正弦值\n",
    "print(\"正弦值结果：\", result)\n",
    "\n",
    "# 求余弦值\n",
    "result = np.cos(arr)  # 数组的每个元素都求余弦值\n",
    "print(\"余弦值结果：\", result)\n",
    "\n",
    "# 求自然对数\n",
    "result = np.log(arr)  # 数组的每个元素都求自然对数\n",
    "print(\"自然对数结果：\", result)\n",
    "\n",
    "# 求指数函数\n",
    "result = np.exp(arr)  # 数组的每个元素都求指数函数\n",
    "print(\"指数函数结果：\", result)\n"
   ]
  },
  {
   "cell_type": "code",
   "execution_count": 31,
   "id": "a7c59406-89bd-4171-82c0-f9934bbc801d",
   "metadata": {},
   "outputs": [
    {
     "name": "stdout",
     "output_type": "stream",
     "text": [
      "数组加法结果： [5 7 9]\n",
      "数组乘法结果： [ 4 10 18]\n"
     ]
    }
   ],
   "source": [
    "import numpy as np\n",
    "\n",
    "arr1 = np.array([1, 2, 3])  # 创建第一个数组\n",
    "arr2 = np.array([4, 5, 6])  # 创建第二个数组\n",
    "\n",
    "# 数组加法\n",
    "result_add = np.add(arr1, arr2)  # 对两个数组进行逐元素相加\n",
    "print(\"数组加法结果：\", result_add)\n",
    "\n",
    "# 数组乘法\n",
    "result_multiply = np.multiply(arr1, arr2)  # 对两个数组进行逐元素相乘\n",
    "print(\"数组乘法结果：\", result_multiply)\n"
   ]
  },
  {
   "cell_type": "code",
   "execution_count": 32,
   "id": "cdcb5a73-7bed-4666-b411-a15e2d64939f",
   "metadata": {},
   "outputs": [
    {
     "name": "stdout",
     "output_type": "stream",
     "text": [
      "广播机制相加结果：\n",
      "[[11 22 33]\n",
      " [14 25 36]\n",
      " [17 28 39]]\n"
     ]
    }
   ],
   "source": [
    "import numpy as np\n",
    "\n",
    "# 创建一个形状为 (3, 3) 的二维数组\n",
    "arr1 = np.array([[1, 2, 3],\n",
    "                 [4, 5, 6],\n",
    "                 [7, 8, 9]])\n",
    "\n",
    "# 创建一个形状为 (3,) 的一维数组\n",
    "arr2 = np.array([10, 20, 30])\n",
    "\n",
    "# 使用广播机制将一维数组与二维数组相加\n",
    "result = arr1 + arr2\n",
    "print(\"广播机制相加结果：\")\n",
    "print(result)\n"
   ]
  },
  {
   "cell_type": "code",
   "execution_count": null,
   "id": "f31c9805-3ffb-4764-a3e2-0ed1c83c27ed",
   "metadata": {},
   "outputs": [],
   "source": [
    "import numpy as np\n",
    "\n",
    "# 创建一个示例数组\n",
    "arr = np.array([[1, 2, 3],\n",
    "                [4, 5, 6],\n",
    "                [7, 8, 9]])\n",
    "\n",
    "# 求所有元素的和\n",
    "sum_all = np.sum(arr)\n",
    "print(\"所有元素的和：\", sum_all)\n",
    "\n",
    "# 求每列的和\n",
    "sum_axis0 = np.sum(arr, axis=0)\n",
    "print(\"每列的和：\", sum_axis0)\n",
    "\n",
    "# 求每行的和\n",
    "sum_axis1 = np.sum(arr, axis=1)\n",
    "print(\"每行的和：\", sum_axis1)\n",
    "\n",
    "# 求所有元素的平均值\n",
    "mean_value = np.mean(arr)\n",
    "print(\"所有元素的平均值：\", mean_value)\n",
    "\n",
    "# 求每列的平均值\n",
    "mean_axis0 = np.mean(arr, axis=0)\n",
    "print(\"每列的平均值：\", mean_axis0)\n",
    "\n",
    "# 求每行的平均值\n",
    "mean_axis1 = np.mean(arr, axis=1)\n",
    "print(\"每行的平均值：\", mean_axis1)\n",
    "\n",
    "# 求所有元素的标准差\n",
    "std_dev = np.std(arr)\n",
    "print(\"所有元素的标准差：\", std_dev)\n",
    "\n",
    "# 求每列的标准差\n",
    "std_dev_axis0 = np.std(arr, axis=0)\n",
    "print(\"每列的标准差：\", std_dev_axis0)\n",
    "\n",
    "# 求每行的标准差\n",
    "std_dev_axis1 = np.std(arr, axis=1)\n",
    "print(\"每行的标准差：\", std_dev_axis1)\n"
   ]
  },
  {
   "cell_type": "code",
   "execution_count": null,
   "id": "87ac010c-b2a9-4b97-ba83-2661a1350fbf",
   "metadata": {},
   "outputs": [],
   "source": [
    "import numpy as np\n",
    "\n",
    "# 创建两个示例矩阵\n",
    "A = np.array([[1, 2],\n",
    "              [3, 4]])\n",
    "B = np.array([[5, 6],\n",
    "              [7, 8]])\n",
    "\n",
    "# 对矩阵进行乘法运算\n",
    "C = A @ B\n",
    "print(\"矩阵乘法结果：\")\n",
    "print(C)\n",
    "# @ = time 叉乘\n",
    "# * = dot 点乘"
   ]
  },
  {
   "cell_type": "code",
   "execution_count": 37,
   "id": "bfeaf794-ddad-4db7-ab36-0451c5ef3201",
   "metadata": {
    "tags": []
   },
   "outputs": [
    {
     "name": "stdout",
     "output_type": "stream",
     "text": [
      "0    1.0\n",
      "1    3.0\n",
      "2    5.0\n",
      "3    NaN\n",
      "4    6.0\n",
      "5    8.0\n",
      "dtype: float64\n",
      "     Name  Age\n",
      "0     Tom   25\n",
      "1   Jerry   30\n",
      "2  Mickey   35\n",
      "3  Minnie   40\n"
     ]
    }
   ],
   "source": [
    "import pandas as pd\n",
    "\n",
    "# 从列表创建 Series\n",
    "s = pd.Series([1, 3, 5, np.nan, 6, 8])\n",
    "print(s)\n",
    "\n",
    "# 从字典创建 DataFrame\n",
    "data = {'Name': ['Tom', 'Jerry', 'Mickey', 'Minnie'],\n",
    "        'Age': [25, 30, 35, 40]}\n",
    "df = pd.DataFrame(data)\n",
    "print(df)\n"
   ]
  },
  {
   "cell_type": "code",
   "execution_count": 38,
   "id": "f6e7a0d5-9744-410f-8c8d-b5d62b293330",
   "metadata": {
    "collapsed": true,
    "jupyter": {
     "outputs_hidden": true
    },
    "tags": []
   },
   "outputs": [
    {
     "ename": "AttributeError",
     "evalue": "module 'pandas' has no attribute 'data_range'",
     "output_type": "error",
     "traceback": [
      "\u001b[1;31m---------------------------------------------------------------------------\u001b[0m",
      "\u001b[1;31mAttributeError\u001b[0m                            Traceback (most recent call last)",
      "\u001b[1;32m~\\AppData\\Local\\Temp\\ipykernel_24048\\2201793753.py\u001b[0m in \u001b[0;36m<module>\u001b[1;34m\u001b[0m\n\u001b[1;32m----> 1\u001b[1;33m \u001b[0mdates\u001b[0m \u001b[1;33m=\u001b[0m \u001b[0mpd\u001b[0m\u001b[1;33m.\u001b[0m\u001b[0mdata_range\u001b[0m\u001b[1;33m(\u001b[0m\u001b[1;34m'20230101'\u001b[0m\u001b[1;33m,\u001b[0m\u001b[0mperiods\u001b[0m\u001b[1;33m=\u001b[0m\u001b[1;36m6\u001b[0m\u001b[1;33m)\u001b[0m\u001b[1;33m\u001b[0m\u001b[1;33m\u001b[0m\u001b[0m\n\u001b[0m\u001b[0;32m      2\u001b[0m \u001b[0mdf\u001b[0m \u001b[1;33m=\u001b[0m \u001b[0mpd\u001b[0m\u001b[1;33m.\u001b[0m\u001b[0mDataFrame\u001b[0m\u001b[1;33m(\u001b[0m\u001b[0mnp\u001b[0m\u001b[1;33m.\u001b[0m\u001b[0mrandom\u001b[0m\u001b[1;33m.\u001b[0m\u001b[0mrandn\u001b[0m\u001b[1;33m(\u001b[0m\u001b[1;36m6\u001b[0m\u001b[1;33m,\u001b[0m\u001b[1;36m4\u001b[0m\u001b[1;33m)\u001b[0m\u001b[1;33m,\u001b[0m\u001b[0mindex\u001b[0m\u001b[1;33m=\u001b[0m\u001b[0mdates\u001b[0m\u001b[1;33m,\u001b[0m\u001b[0mcolumns\u001b[0m\u001b[1;33m=\u001b[0m\u001b[0mlist\u001b[0m\u001b[1;33m(\u001b[0m\u001b[1;34m'ABCD'\u001b[0m\u001b[1;33m)\u001b[0m\u001b[1;33m)\u001b[0m\u001b[1;33m\u001b[0m\u001b[1;33m\u001b[0m\u001b[0m\n",
      "\u001b[1;32mD:\\Anaconda\\lib\\site-packages\\pandas\\__init__.py\u001b[0m in \u001b[0;36m__getattr__\u001b[1;34m(name)\u001b[0m\n\u001b[0;32m    259\u001b[0m         \u001b[1;32mreturn\u001b[0m \u001b[0m_SparseArray\u001b[0m\u001b[1;33m\u001b[0m\u001b[1;33m\u001b[0m\u001b[0m\n\u001b[0;32m    260\u001b[0m \u001b[1;33m\u001b[0m\u001b[0m\n\u001b[1;32m--> 261\u001b[1;33m     \u001b[1;32mraise\u001b[0m \u001b[0mAttributeError\u001b[0m\u001b[1;33m(\u001b[0m\u001b[1;34mf\"module 'pandas' has no attribute '{name}'\"\u001b[0m\u001b[1;33m)\u001b[0m\u001b[1;33m\u001b[0m\u001b[1;33m\u001b[0m\u001b[0m\n\u001b[0m\u001b[0;32m    262\u001b[0m \u001b[1;33m\u001b[0m\u001b[0m\n\u001b[0;32m    263\u001b[0m \u001b[1;33m\u001b[0m\u001b[0m\n",
      "\u001b[1;31mAttributeError\u001b[0m: module 'pandas' has no attribute 'data_range'"
     ]
    }
   ],
   "source": [
    "dates = pd.data_range('20230101',periods=6)\n",
    "df = pd.DataFrame(np.random.randn(6,4),index=dates,columns=list('ABCD'))"
   ]
  },
  {
   "cell_type": "code",
   "execution_count": 39,
   "id": "b4ccf8d0-6dac-41ba-9c06-5aac64f9f23b",
   "metadata": {
    "collapsed": true,
    "jupyter": {
     "outputs_hidden": true
    },
    "tags": []
   },
   "outputs": [
    {
     "ename": "FileNotFoundError",
     "evalue": "[Errno 2] No such file or directory: 'example.csv'",
     "output_type": "error",
     "traceback": [
      "\u001b[1;31m---------------------------------------------------------------------------\u001b[0m",
      "\u001b[1;31mFileNotFoundError\u001b[0m                         Traceback (most recent call last)",
      "\u001b[1;32m~\\AppData\\Local\\Temp\\ipykernel_24048\\3200290780.py\u001b[0m in \u001b[0;36m<module>\u001b[1;34m\u001b[0m\n\u001b[1;32m----> 1\u001b[1;33m \u001b[0mdf_csv\u001b[0m \u001b[1;33m=\u001b[0m \u001b[0mpd\u001b[0m\u001b[1;33m.\u001b[0m\u001b[0mread_csv\u001b[0m\u001b[1;33m(\u001b[0m\u001b[1;34m'example.csv'\u001b[0m\u001b[1;33m)\u001b[0m\u001b[1;33m\u001b[0m\u001b[1;33m\u001b[0m\u001b[0m\n\u001b[0m",
      "\u001b[1;32mD:\\Anaconda\\lib\\site-packages\\pandas\\util\\_decorators.py\u001b[0m in \u001b[0;36mwrapper\u001b[1;34m(*args, **kwargs)\u001b[0m\n\u001b[0;32m    309\u001b[0m                     \u001b[0mstacklevel\u001b[0m\u001b[1;33m=\u001b[0m\u001b[0mstacklevel\u001b[0m\u001b[1;33m,\u001b[0m\u001b[1;33m\u001b[0m\u001b[1;33m\u001b[0m\u001b[0m\n\u001b[0;32m    310\u001b[0m                 )\n\u001b[1;32m--> 311\u001b[1;33m             \u001b[1;32mreturn\u001b[0m \u001b[0mfunc\u001b[0m\u001b[1;33m(\u001b[0m\u001b[1;33m*\u001b[0m\u001b[0margs\u001b[0m\u001b[1;33m,\u001b[0m \u001b[1;33m**\u001b[0m\u001b[0mkwargs\u001b[0m\u001b[1;33m)\u001b[0m\u001b[1;33m\u001b[0m\u001b[1;33m\u001b[0m\u001b[0m\n\u001b[0m\u001b[0;32m    312\u001b[0m \u001b[1;33m\u001b[0m\u001b[0m\n\u001b[0;32m    313\u001b[0m         \u001b[1;32mreturn\u001b[0m \u001b[0mwrapper\u001b[0m\u001b[1;33m\u001b[0m\u001b[1;33m\u001b[0m\u001b[0m\n",
      "\u001b[1;32mD:\\Anaconda\\lib\\site-packages\\pandas\\io\\parsers\\readers.py\u001b[0m in \u001b[0;36mread_csv\u001b[1;34m(filepath_or_buffer, sep, delimiter, header, names, index_col, usecols, squeeze, prefix, mangle_dupe_cols, dtype, engine, converters, true_values, false_values, skipinitialspace, skiprows, skipfooter, nrows, na_values, keep_default_na, na_filter, verbose, skip_blank_lines, parse_dates, infer_datetime_format, keep_date_col, date_parser, dayfirst, cache_dates, iterator, chunksize, compression, thousands, decimal, lineterminator, quotechar, quoting, doublequote, escapechar, comment, encoding, encoding_errors, dialect, error_bad_lines, warn_bad_lines, on_bad_lines, delim_whitespace, low_memory, memory_map, float_precision, storage_options)\u001b[0m\n\u001b[0;32m    676\u001b[0m     \u001b[0mkwds\u001b[0m\u001b[1;33m.\u001b[0m\u001b[0mupdate\u001b[0m\u001b[1;33m(\u001b[0m\u001b[0mkwds_defaults\u001b[0m\u001b[1;33m)\u001b[0m\u001b[1;33m\u001b[0m\u001b[1;33m\u001b[0m\u001b[0m\n\u001b[0;32m    677\u001b[0m \u001b[1;33m\u001b[0m\u001b[0m\n\u001b[1;32m--> 678\u001b[1;33m     \u001b[1;32mreturn\u001b[0m \u001b[0m_read\u001b[0m\u001b[1;33m(\u001b[0m\u001b[0mfilepath_or_buffer\u001b[0m\u001b[1;33m,\u001b[0m \u001b[0mkwds\u001b[0m\u001b[1;33m)\u001b[0m\u001b[1;33m\u001b[0m\u001b[1;33m\u001b[0m\u001b[0m\n\u001b[0m\u001b[0;32m    679\u001b[0m \u001b[1;33m\u001b[0m\u001b[0m\n\u001b[0;32m    680\u001b[0m \u001b[1;33m\u001b[0m\u001b[0m\n",
      "\u001b[1;32mD:\\Anaconda\\lib\\site-packages\\pandas\\io\\parsers\\readers.py\u001b[0m in \u001b[0;36m_read\u001b[1;34m(filepath_or_buffer, kwds)\u001b[0m\n\u001b[0;32m    573\u001b[0m \u001b[1;33m\u001b[0m\u001b[0m\n\u001b[0;32m    574\u001b[0m     \u001b[1;31m# Create the parser.\u001b[0m\u001b[1;33m\u001b[0m\u001b[1;33m\u001b[0m\u001b[0m\n\u001b[1;32m--> 575\u001b[1;33m     \u001b[0mparser\u001b[0m \u001b[1;33m=\u001b[0m \u001b[0mTextFileReader\u001b[0m\u001b[1;33m(\u001b[0m\u001b[0mfilepath_or_buffer\u001b[0m\u001b[1;33m,\u001b[0m \u001b[1;33m**\u001b[0m\u001b[0mkwds\u001b[0m\u001b[1;33m)\u001b[0m\u001b[1;33m\u001b[0m\u001b[1;33m\u001b[0m\u001b[0m\n\u001b[0m\u001b[0;32m    576\u001b[0m \u001b[1;33m\u001b[0m\u001b[0m\n\u001b[0;32m    577\u001b[0m     \u001b[1;32mif\u001b[0m \u001b[0mchunksize\u001b[0m \u001b[1;32mor\u001b[0m \u001b[0miterator\u001b[0m\u001b[1;33m:\u001b[0m\u001b[1;33m\u001b[0m\u001b[1;33m\u001b[0m\u001b[0m\n",
      "\u001b[1;32mD:\\Anaconda\\lib\\site-packages\\pandas\\io\\parsers\\readers.py\u001b[0m in \u001b[0;36m__init__\u001b[1;34m(self, f, engine, **kwds)\u001b[0m\n\u001b[0;32m    930\u001b[0m \u001b[1;33m\u001b[0m\u001b[0m\n\u001b[0;32m    931\u001b[0m         \u001b[0mself\u001b[0m\u001b[1;33m.\u001b[0m\u001b[0mhandles\u001b[0m\u001b[1;33m:\u001b[0m \u001b[0mIOHandles\u001b[0m \u001b[1;33m|\u001b[0m \u001b[1;32mNone\u001b[0m \u001b[1;33m=\u001b[0m \u001b[1;32mNone\u001b[0m\u001b[1;33m\u001b[0m\u001b[1;33m\u001b[0m\u001b[0m\n\u001b[1;32m--> 932\u001b[1;33m         \u001b[0mself\u001b[0m\u001b[1;33m.\u001b[0m\u001b[0m_engine\u001b[0m \u001b[1;33m=\u001b[0m \u001b[0mself\u001b[0m\u001b[1;33m.\u001b[0m\u001b[0m_make_engine\u001b[0m\u001b[1;33m(\u001b[0m\u001b[0mf\u001b[0m\u001b[1;33m,\u001b[0m \u001b[0mself\u001b[0m\u001b[1;33m.\u001b[0m\u001b[0mengine\u001b[0m\u001b[1;33m)\u001b[0m\u001b[1;33m\u001b[0m\u001b[1;33m\u001b[0m\u001b[0m\n\u001b[0m\u001b[0;32m    933\u001b[0m \u001b[1;33m\u001b[0m\u001b[0m\n\u001b[0;32m    934\u001b[0m     \u001b[1;32mdef\u001b[0m \u001b[0mclose\u001b[0m\u001b[1;33m(\u001b[0m\u001b[0mself\u001b[0m\u001b[1;33m)\u001b[0m\u001b[1;33m:\u001b[0m\u001b[1;33m\u001b[0m\u001b[1;33m\u001b[0m\u001b[0m\n",
      "\u001b[1;32mD:\\Anaconda\\lib\\site-packages\\pandas\\io\\parsers\\readers.py\u001b[0m in \u001b[0;36m_make_engine\u001b[1;34m(self, f, engine)\u001b[0m\n\u001b[0;32m   1214\u001b[0m             \u001b[1;31m# \"Union[str, PathLike[str], ReadCsvBuffer[bytes], ReadCsvBuffer[str]]\"\u001b[0m\u001b[1;33m\u001b[0m\u001b[1;33m\u001b[0m\u001b[0m\n\u001b[0;32m   1215\u001b[0m             \u001b[1;31m# , \"str\", \"bool\", \"Any\", \"Any\", \"Any\", \"Any\", \"Any\"\u001b[0m\u001b[1;33m\u001b[0m\u001b[1;33m\u001b[0m\u001b[0m\n\u001b[1;32m-> 1216\u001b[1;33m             self.handles = get_handle(  # type: ignore[call-overload]\n\u001b[0m\u001b[0;32m   1217\u001b[0m                 \u001b[0mf\u001b[0m\u001b[1;33m,\u001b[0m\u001b[1;33m\u001b[0m\u001b[1;33m\u001b[0m\u001b[0m\n\u001b[0;32m   1218\u001b[0m                 \u001b[0mmode\u001b[0m\u001b[1;33m,\u001b[0m\u001b[1;33m\u001b[0m\u001b[1;33m\u001b[0m\u001b[0m\n",
      "\u001b[1;32mD:\\Anaconda\\lib\\site-packages\\pandas\\io\\common.py\u001b[0m in \u001b[0;36mget_handle\u001b[1;34m(path_or_buf, mode, encoding, compression, memory_map, is_text, errors, storage_options)\u001b[0m\n\u001b[0;32m    784\u001b[0m         \u001b[1;32mif\u001b[0m \u001b[0mioargs\u001b[0m\u001b[1;33m.\u001b[0m\u001b[0mencoding\u001b[0m \u001b[1;32mand\u001b[0m \u001b[1;34m\"b\"\u001b[0m \u001b[1;32mnot\u001b[0m \u001b[1;32min\u001b[0m \u001b[0mioargs\u001b[0m\u001b[1;33m.\u001b[0m\u001b[0mmode\u001b[0m\u001b[1;33m:\u001b[0m\u001b[1;33m\u001b[0m\u001b[1;33m\u001b[0m\u001b[0m\n\u001b[0;32m    785\u001b[0m             \u001b[1;31m# Encoding\u001b[0m\u001b[1;33m\u001b[0m\u001b[1;33m\u001b[0m\u001b[0m\n\u001b[1;32m--> 786\u001b[1;33m             handle = open(\n\u001b[0m\u001b[0;32m    787\u001b[0m                 \u001b[0mhandle\u001b[0m\u001b[1;33m,\u001b[0m\u001b[1;33m\u001b[0m\u001b[1;33m\u001b[0m\u001b[0m\n\u001b[0;32m    788\u001b[0m                 \u001b[0mioargs\u001b[0m\u001b[1;33m.\u001b[0m\u001b[0mmode\u001b[0m\u001b[1;33m,\u001b[0m\u001b[1;33m\u001b[0m\u001b[1;33m\u001b[0m\u001b[0m\n",
      "\u001b[1;31mFileNotFoundError\u001b[0m: [Errno 2] No such file or directory: 'example.csv'"
     ]
    }
   ],
   "source": [
    "df_csv = pd.read_csv('example.csv')"
   ]
  },
  {
   "cell_type": "code",
   "execution_count": 34,
   "id": "3c5c942e-464a-4028-aedc-99d6e468184a",
   "metadata": {},
   "outputs": [
    {
     "ename": "NameError",
     "evalue": "name 'dates' is not defined",
     "output_type": "error",
     "traceback": [
      "\u001b[1;31m---------------------------------------------------------------------------\u001b[0m",
      "\u001b[1;31mNameError\u001b[0m                                 Traceback (most recent call last)",
      "\u001b[1;32m~\\AppData\\Local\\Temp\\ipykernel_24048\\2871739569.py\u001b[0m in \u001b[0;36m<module>\u001b[1;34m\u001b[0m\n\u001b[1;32m----> 1\u001b[1;33m \u001b[0mpd\u001b[0m\u001b[1;33m.\u001b[0m\u001b[0mDataFrame\u001b[0m\u001b[1;33m(\u001b[0m\u001b[0mnp\u001b[0m\u001b[1;33m.\u001b[0m\u001b[0mrandom\u001b[0m\u001b[1;33m.\u001b[0m\u001b[0mrandn\u001b[0m\u001b[1;33m(\u001b[0m\u001b[1;36m6\u001b[0m\u001b[1;33m,\u001b[0m\u001b[1;36m4\u001b[0m\u001b[1;33m)\u001b[0m\u001b[1;33m,\u001b[0m\u001b[0mindex\u001b[0m\u001b[1;33m=\u001b[0m\u001b[0mdates\u001b[0m\u001b[1;33m,\u001b[0m\u001b[0mcolumns\u001b[0m\u001b[1;33m=\u001b[0m\u001b[0mlist\u001b[0m\u001b[1;33m(\u001b[0m\u001b[1;34m'ABCD'\u001b[0m\u001b[1;33m)\u001b[0m\u001b[1;33m)\u001b[0m\u001b[1;33m\u001b[0m\u001b[1;33m\u001b[0m\u001b[0m\n\u001b[0m",
      "\u001b[1;31mNameError\u001b[0m: name 'dates' is not defined"
     ]
    }
   ],
   "source": [
    "pd.DataFrame(np.random.randn(6,4),index=dates,columns=list('ABCD'))"
   ]
  },
  {
   "cell_type": "code",
   "execution_count": null,
   "id": "0a081250-bfe9-4c28-a129-731487cb77b9",
   "metadata": {},
   "outputs": [],
   "source": []
  },
  {
   "cell_type": "code",
   "execution_count": 41,
   "id": "8c951ce3-8a63-49d9-9dcc-ef79769316cc",
   "metadata": {},
   "outputs": [
    {
     "name": "stdout",
     "output_type": "stream",
     "text": [
      "<html>\n",
      "<head>\n",
      "\t<script>\n",
      "\t\tlocation.replace(location.href.replace(\"https://\",\"http://\"));\n",
      "\t</script>\n",
      "</head>\n",
      "<body>\n",
      "\t<noscript><meta http-equiv=\"refresh\" content=\"0;url=http://www.baidu.com/\"></noscript>\n",
      "</body>\n",
      "</html>\n"
     ]
    }
   ],
   "source": [
    "# 导入urllib库的urlopen函数\n",
    "from urllib.request import urlopen\n",
    "\n",
    "# 使用urlopen函数打开指定网址，并将返回的对象赋值给html变量\n",
    "html = urlopen(\"https://www.baidu.com\")\n",
    "\n",
    "# 读取html对象的内容，并将字节流解码为字符串\n",
    "html_text = bytes.decode(html.read())\n",
    "\n",
    "# 打印获取到的网页内容\n",
    "print(html_text)\n"
   ]
  },
  {
   "cell_type": "code",
   "execution_count": 43,
   "id": "72974741-2f32-4c24-9625-c49fc4f0a40b",
   "metadata": {},
   "outputs": [
    {
     "name": "stdout",
     "output_type": "stream",
     "text": [
      "save.......\n",
      "爬取完毕！\n"
     ]
    }
   ],
   "source": [
    "# -*- codeing = utf-8 -*-\n",
    "from bs4 import BeautifulSoup  # 网页解析，获取数据\n",
    "import re  # 正则表达式，进行文字匹配`\n",
    "import urllib.request, urllib.error  # 制定URL，获取网页数据\n",
    "import xlwt  # 进行excel操作\n",
    "#import sqlite3  # 进行SQLite数据库操作\n",
    "\n",
    "findLink = re.compile(r'<a href=\"(.*?)\">')  # 创建正则表达式对象，标售规则   影片详情链接的规则\n",
    "findImgSrc = re.compile(r'<img.*src=\"(.*?)\"', re.S)\n",
    "findTitle = re.compile(r'<span class=\"title\">(.*)</span>')\n",
    "findRating = re.compile(r'<span class=\"rating_num\" property=\"v:average\">(.*)</span>')\n",
    "findJudge = re.compile(r'<span>(\\d*)人评价</span>')\n",
    "findInq = re.compile(r'<span class=\"inq\">(.*)</span>')\n",
    "findBd = re.compile(r'<p class=\"\">(.*?)</p>', re.S)\n",
    "\n",
    "\n",
    "def main():\n",
    "    baseurl = \"https://movie.douban.com/top250?start=\"  #要爬取的网页链接\n",
    "    # 1.爬取网页\n",
    "    datalist = getData(baseurl)\n",
    "    savepath = \"豆瓣电影Top250.xls\"    #当前目录新建XLS，存储进去\n",
    "    # dbpath = \"movie.db\"              #当前目录新建数据库，存储进去\n",
    "    # 3.保存数据\n",
    "    saveData(datalist,savepath)      #2种存储方式可以只选择一种\n",
    "    # saveData2DB(datalist,dbpath)\n",
    "\n",
    "\n",
    "# 爬取网页\n",
    "def getData(baseurl):\n",
    "    datalist = []  #用来存储爬取的网页信息\n",
    "    for i in range(0, 10):  # 调用获取页面信息的函数，10次\n",
    "        url = baseurl + str(i * 25)\n",
    "        html = askURL(url)  # 保存获取到的网页源码\n",
    "        # 2.逐一解析数据\n",
    "        soup = BeautifulSoup(html, \"html.parser\")\n",
    "        for item in soup.find_all('div', class_=\"item\"):  # 查找符合要求的字符串\n",
    "            data = []  # 保存一部电影所有信息\n",
    "            item = str(item)\n",
    "            link = re.findall(findLink, item)[0]  # 通过正则表达式查找\n",
    "            data.append(link)\n",
    "            imgSrc = re.findall(findImgSrc, item)[0]\n",
    "            data.append(imgSrc)\n",
    "            titles = re.findall(findTitle, item)\n",
    "            if (len(titles) == 2):\n",
    "                ctitle = titles[0]\n",
    "                data.append(ctitle)\n",
    "                otitle = titles[1].replace(\"/\", \"\")  #消除转义字符\n",
    "                data.append(otitle)\n",
    "            else:\n",
    "                data.append(titles[0])\n",
    "                data.append(' ')\n",
    "            rating = re.findall(findRating, item)[0]\n",
    "            data.append(rating)\n",
    "            judgeNum = re.findall(findJudge, item)[0]\n",
    "            data.append(judgeNum)\n",
    "            inq = re.findall(findInq, item)\n",
    "            if len(inq) != 0:\n",
    "                inq = inq[0].replace(\"。\", \"\")\n",
    "                data.append(inq)\n",
    "            else:\n",
    "                data.append(\" \")\n",
    "            bd = re.findall(findBd, item)[0]\n",
    "            bd = re.sub('<br(\\s+)?/>(\\s+)?', \"\", bd)\n",
    "            bd = re.sub('/', \"\", bd)\n",
    "            data.append(bd.strip())\n",
    "            datalist.append(data)\n",
    "\n",
    "    return datalist\n",
    "\n",
    "\n",
    "# 得到指定一个URL的网页内容\n",
    "def askURL(url):\n",
    "    head = {  # 模拟浏览器头部信息，向豆瓣服务器发送消息\n",
    "        \"User-Agent\": \"Mozilla / 5.0(Windows NT 10.0; Win64; x64) AppleWebKit / 537.36(KHTML, like Gecko) Chrome / 80.0.3987.122  Safari / 537.36\"\n",
    "    }\n",
    "    # 用户代理，表示告诉豆瓣服务器，我们是什么类型的机器、浏览器（本质上是告诉浏览器，我们可以接收什么水平的文件内容）\n",
    "\n",
    "    request = urllib.request.Request(url, headers=head)\n",
    "    html = \"\"\n",
    "    try:\n",
    "        response = urllib.request.urlopen(request)\n",
    "        html = response.read().decode(\"utf-8\")\n",
    "    except urllib.error.URLError as e:\n",
    "        if hasattr(e, \"code\"):\n",
    "            print(e.code)\n",
    "        if hasattr(e, \"reason\"):\n",
    "            print(e.reason)\n",
    "    return html\n",
    "\n",
    "\n",
    "# 保存数据到表格\n",
    "def saveData(datalist,savepath):\n",
    "    print(\"save.......\")\n",
    "    book = xlwt.Workbook(encoding=\"utf-8\",style_compression=0) #创建workbook对象\n",
    "    sheet = book.add_sheet('豆瓣电影Top250', cell_overwrite_ok=True) #创建工作表\n",
    "    col = (\"电影详情链接\",\"图片链接\",\"影片中文名\",\"影片外国名\",\"评分\",\"评价数\",\"概况\",\"相关信息\")\n",
    "    for i in range(0,8):\n",
    "        sheet.write(0,i,col[i])  #列名\n",
    "    for i in range(0,250):\n",
    "        # print(\"第%d条\" %(i+1))       #输出语句，用来测试\n",
    "        data = datalist[i]\n",
    "        for j in range(0,8):\n",
    "            sheet.write(i+1,j,data[j])  #数据\n",
    "    book.save(savepath) #保存\n",
    "\n",
    "# def saveData2DB(datalist,dbpath):\n",
    "#     init_db(dbpath)\n",
    "#     conn = sqlite3.connect(dbpath)\n",
    "#     cur = conn.cursor()\n",
    "#     for data in datalist:\n",
    "#             for index in range(len(data)):\n",
    "#                 if index == 4 or index == 5:\n",
    "#                     continue\n",
    "#                 data[index] = '\"'+data[index]+'\"'\n",
    "#             sql = '''\n",
    "#                     insert into movie250(\n",
    "#                     info_link,pic_link,cname,ename,score,rated,instroduction,info)\n",
    "#                     values (%s)'''%\",\".join(data)\n",
    "#             # print(sql)     #输出查询语句，用来测试\n",
    "#             cur.execute(sql)\n",
    "#             conn.commit()\n",
    "#     cur.close\n",
    "#     conn.close()\n",
    "\n",
    "\n",
    "# def init_db(dbpath):\n",
    "#     sql = '''\n",
    "#         create table movie250(\n",
    "#         id integer  primary  key autoincrement,\n",
    "#         info_link text,\n",
    "#         pic_link text,\n",
    "#         cname varchar,\n",
    "#         ename varchar ,\n",
    "#         score numeric,\n",
    "#         rated numeric,\n",
    "#         instroduction text,\n",
    "#         info text\n",
    "#         )\n",
    "#\n",
    "#\n",
    "#     '''  #创建数据表\n",
    "#     conn = sqlite3.connect(dbpath)\n",
    "#     cursor = conn.cursor()\n",
    "#     cursor.execute(sql)\n",
    "#     conn.commit()\n",
    "#     conn.close()\n",
    "\n",
    "# 保存数据到数据库\n",
    "\n",
    "\n",
    "\n",
    "if __name__ == \"__main__\":  # 当程序执行时\n",
    "    # 调用函数\n",
    "     main()\n",
    "    # init_db(\"movietest.db\")\n",
    "     print(\"爬取完毕！\")\n",
    "\n"
   ]
  },
  {
   "cell_type": "code",
   "execution_count": null,
   "id": "cff74387-d85b-4d42-8315-15397e30d29c",
   "metadata": {},
   "outputs": [],
   "source": []
  },
  {
   "cell_type": "code",
   "execution_count": null,
   "id": "be26378b-3bb2-4f94-8cd8-9f2c06f4f817",
   "metadata": {},
   "outputs": [],
   "source": []
  },
  {
   "cell_type": "code",
   "execution_count": null,
   "id": "e22e992c-8488-4bd0-8106-a3d3e3346819",
   "metadata": {},
   "outputs": [],
   "source": []
  },
  {
   "cell_type": "code",
   "execution_count": null,
   "id": "a2d22e3f-9024-4cf2-bd15-f96b57939521",
   "metadata": {},
   "outputs": [],
   "source": []
  },
  {
   "cell_type": "code",
   "execution_count": null,
   "id": "fb456808-4c3c-4c96-9e58-9dab0be11326",
   "metadata": {},
   "outputs": [],
   "source": []
  },
  {
   "cell_type": "code",
   "execution_count": null,
   "id": "c45d9e8a-dec2-4500-84ad-63ef423c5bbc",
   "metadata": {},
   "outputs": [],
   "source": []
  },
  {
   "cell_type": "code",
   "execution_count": null,
   "id": "62aead30-077b-4a49-88f8-1294758d307f",
   "metadata": {},
   "outputs": [],
   "source": []
  }
 ],
 "metadata": {
  "kernelspec": {
   "display_name": "Python 3 (ipykernel)",
   "language": "python",
   "name": "python3"
  },
  "language_info": {
   "codemirror_mode": {
    "name": "ipython",
    "version": 3
   },
   "file_extension": ".py",
   "mimetype": "text/x-python",
   "name": "python",
   "nbconvert_exporter": "python",
   "pygments_lexer": "ipython3",
   "version": "3.9.13"
  }
 },
 "nbformat": 4,
 "nbformat_minor": 5
}
