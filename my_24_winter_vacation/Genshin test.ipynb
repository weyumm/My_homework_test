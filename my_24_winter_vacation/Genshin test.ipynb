{
 "cells": [
  {
   "cell_type": "markdown",
   "id": "7ad825e8-ecdb-4c7e-a0f8-a85d3422560d",
   "metadata": {},
   "source": [
    "# 原神启动"
   ]
  },
  {
   "cell_type": "markdown",
   "id": "8fcb4212-1391-4967-aa1c-e1c7298ee43a",
   "metadata": {},
   "source": [
    "## 1.1蒙德\n",
    "- 1.1.1 荣誉骑士\n",
    "- 1.1.2 传送锚点\n",
    "**我要玩原神**"
   ]
  },
  {
   "cell_type": "code",
   "execution_count": 1,
   "id": "a8f044e6-b17c-49c5-bb2d-ad6e75d47ad4",
   "metadata": {},
   "outputs": [],
   "source": [
    "import sys\n",
    "import pandas as pd\n",
    "import numpy as np"
   ]
  },
  {
   "cell_type": "code",
   "execution_count": 2,
   "id": "b6847e86-8cba-43a9-853d-38232b20cc95",
   "metadata": {},
   "outputs": [
    {
     "name": "stdout",
     "output_type": "stream",
     "text": [
      "Genshin impact\n",
      "Honkai starrail,         launched\n"
     ]
    }
   ],
   "source": [
    "print(\"Genshin impact\")\n",
    "# 我是神里绫华的郭\n",
    "'''\n",
    "原来\n",
    "你也玩原神？\n",
    "'''\n",
    "print(\"Honkai starrail,\\\n",
    "         launched\")"
   ]
  },
  {
   "cell_type": "markdown",
   "id": "bfc1b191-feab-4783-8791-e32b4bf5f704",
   "metadata": {
    "jp-MarkdownHeadingCollapsed": true,
    "tags": []
   },
   "source": [
    "## 1.2璃月"
   ]
  },
  {
   "cell_type": "code",
   "execution_count": 3,
   "id": "fe070520-964f-454c-a952-e8f7e7ab42c6",
   "metadata": {},
   "outputs": [
    {
     "name": "stdout",
     "output_type": "stream",
     "text": [
      "Honkai campus\n"
     ]
    }
   ],
   "source": [
    "if 1>2:\n",
    "    print(\"false\")\n",
    "    print(\"yuan shi\")\n",
    "    print(\"xing qiong\")\n",
    "print(\"Honkai campus\")"
   ]
  },
  {
   "cell_type": "code",
   "execution_count": 4,
   "id": "bc7b6ece",
   "metadata": {},
   "outputs": [],
   "source": [
    "Honkai1 = 3\n",
    "Honkai2 = 'campus'\n",
    "Honkai3 = ['ys']"
   ]
  },
  {
   "cell_type": "code",
   "execution_count": 5,
   "id": "b189e743-58e5-4111-8346-4edfa3747fff",
   "metadata": {},
   "outputs": [
    {
     "data": {
      "text/plain": [
       "36.69109947643979"
      ]
     },
     "execution_count": 5,
     "metadata": {},
     "output_type": "execute_result"
    }
   ],
   "source": [
    "114+514/191%9-8*10"
   ]
  },
  {
   "cell_type": "markdown",
   "id": "89b4e87d-3173-487a-be4c-08137e5996a1",
   "metadata": {},
   "source": [
    "## 1.3稻妻\n",
    "- 变量是数据的容器\n",
    "- Python中不需要声明变量类型"
   ]
  },
  {
   "cell_type": "code",
   "execution_count": null,
   "id": "e343d304-f1e5-456f-88a7-6d884e4ca5da",
   "metadata": {},
   "outputs": [],
   "source": []
  },
  {
   "cell_type": "code",
   "execution_count": 6,
   "id": "25dcb863-ed2b-433e-af9e-f457b9f6982b",
   "metadata": {},
   "outputs": [
    {
     "name": "stdout",
     "output_type": "stream",
     "text": [
      "\txing\n",
      "sanyueqi\n"
     ]
    }
   ],
   "source": [
    "kaituozhe = 'xing'\n",
    "sanyueqi = 3\n",
    "sanyueqi\n",
    "print('\\t'+kaituozhe + '\\n'+ 'sanyueqi')"
   ]
  },
  {
   "cell_type": "code",
   "execution_count": 7,
   "id": "e2ff22f6-ccba-45e0-8826-5d7895da5163",
   "metadata": {},
   "outputs": [
    {
     "data": {
      "text/plain": [
       "'3333'"
      ]
     },
     "execution_count": 7,
     "metadata": {},
     "output_type": "execute_result"
    }
   ],
   "source": [
    "'3' * 4"
   ]
  },
  {
   "cell_type": "code",
   "execution_count": 8,
   "id": "5ea2bd13-67ce-42d2-90f0-b5802aa68dbe",
   "metadata": {},
   "outputs": [
    {
     "data": {
      "text/plain": [
       "12"
      ]
     },
     "execution_count": 8,
     "metadata": {},
     "output_type": "execute_result"
    }
   ],
   "source": [
    "3*4"
   ]
  },
  {
   "cell_type": "markdown",
   "id": "04be575d-1415-4523-b77b-dd5c09a86d91",
   "metadata": {},
   "source": [
    "### 列表list,元组tuple,字典dictionary，集合set\n",
    "- 列表有序，前后有区别，按位置索引(index)"
   ]
  },
  {
   "cell_type": "markdown",
   "id": "6e5fb141-0555-4847-9206-3e609b7cc5ed",
   "metadata": {},
   "source": [
    "## 蒙德1.1"
   ]
  },
  {
   "cell_type": "code",
   "execution_count": 9,
   "id": "2402f590-5715-499f-a0d2-2b702d0251d5",
   "metadata": {},
   "outputs": [
    {
     "name": "stdout",
     "output_type": "stream",
     "text": [
      "apple\n",
      "orange\n"
     ]
    },
    {
     "data": {
      "text/plain": [
       "['apple', 'banana', 'orange', 4, [1, 2, 3, 4], True]"
      ]
     },
     "execution_count": 9,
     "metadata": {},
     "output_type": "execute_result"
    }
   ],
   "source": [
    "fruits= [\"apple\",\"banana\",\"orange\",4,[1,2,3,4],True]\n",
    "print(fruits[0]+ '\\n' +fruits[-4])\n",
    "len(fruits)#y=f(x)\n",
    "\n",
    "list(fruits)"
   ]
  },
  {
   "cell_type": "code",
   "execution_count": 10,
   "id": "9b3f6508-95c4-42c1-ae45-e3a488d782cd",
   "metadata": {},
   "outputs": [
    {
     "name": "stdout",
     "output_type": "stream",
     "text": [
      "1\n"
     ]
    },
    {
     "ename": "ValueError",
     "evalue": "list.remove(x): x not in list",
     "output_type": "error",
     "traceback": [
      "\u001b[1;31m---------------------------------------------------------------------------\u001b[0m",
      "\u001b[1;31mValueError\u001b[0m                                Traceback (most recent call last)",
      "\u001b[1;32m~\\AppData\\Local\\Temp\\ipykernel_23992\\2853284765.py\u001b[0m in \u001b[0;36m<module>\u001b[1;34m\u001b[0m\n\u001b[0;32m      4\u001b[0m \u001b[0mmy_list\u001b[0m\u001b[1;33m.\u001b[0m\u001b[0mappend\u001b[0m\u001b[1;33m(\u001b[0m\u001b[1;36m4\u001b[0m\u001b[1;33m)\u001b[0m  \u001b[1;31m# 在列表末尾添加元素 4\u001b[0m\u001b[1;33m\u001b[0m\u001b[1;33m\u001b[0m\u001b[0m\n\u001b[0;32m      5\u001b[0m \u001b[0mmy_list\u001b[0m\u001b[1;33m.\u001b[0m\u001b[0minsert\u001b[0m\u001b[1;33m(\u001b[0m\u001b[1;36m1\u001b[0m\u001b[1;33m,\u001b[0m \u001b[1;36m10\u001b[0m\u001b[1;33m)\u001b[0m  \u001b[1;31m# 在索引为 1 的位置插入元素 10\u001b[0m\u001b[1;33m\u001b[0m\u001b[1;33m\u001b[0m\u001b[0m\n\u001b[1;32m----> 6\u001b[1;33m \u001b[0mmy_list\u001b[0m\u001b[1;33m.\u001b[0m\u001b[0mremove\u001b[0m\u001b[1;33m(\u001b[0m\u001b[1;36m2\u001b[0m\u001b[1;33m)\u001b[0m  \u001b[1;31m# 删除列表中第一个值为 2 的元素\u001b[0m\u001b[1;33m\u001b[0m\u001b[1;33m\u001b[0m\u001b[0m\n\u001b[0m\u001b[0;32m      7\u001b[0m \u001b[1;32mdel\u001b[0m \u001b[0mmy_list\u001b[0m\u001b[1;33m[\u001b[0m\u001b[1;36m2\u001b[0m\u001b[1;33m]\u001b[0m\u001b[1;33m\u001b[0m\u001b[1;33m\u001b[0m\u001b[0m\n\u001b[0;32m      8\u001b[0m \u001b[0msub_list\u001b[0m \u001b[1;33m=\u001b[0m \u001b[0mmy_list\u001b[0m\u001b[1;33m[\u001b[0m\u001b[1;36m1\u001b[0m\u001b[1;33m:\u001b[0m\u001b[1;36m3\u001b[0m\u001b[1;33m]\u001b[0m  \u001b[1;31m# 获取列表中索引从 1 到 2 的子列表\u001b[0m\u001b[1;33m\u001b[0m\u001b[1;33m\u001b[0m\u001b[0m\n",
      "\u001b[1;31mValueError\u001b[0m: list.remove(x): x not in list"
     ]
    }
   ],
   "source": [
    "my_list = [1, 2, 3]  # 创建包含整数元素的列表\n",
    "print(my_list[0])  # 访问列表中索引为 0 的元素\n",
    "my_list[1] = 5  # 将列表中索引为 1 的元素修改为 5\n",
    "my_list.append(4)  # 在列表末尾添加元素 4\n",
    "my_list.insert(1, 10)  # 在索引为 1 的位置插入元素 10\n",
    "my_list.remove(2)  # 删除列表中第一个值为 2 的元素\n",
    "del my_list[2]\n",
    "sub_list = my_list[1:3]  # 获取列表中索引从 1 到 2 的子列表\n",
    "length = len(my_list)  # 获取列表的长度\n",
    "my_list.sort()  # 对列表进行升序排序\n",
    "my_list.reverse()  # 反转列表中的元素顺序\n"
   ]
  },
  {
   "cell_type": "code",
   "execution_count": null,
   "id": "f2221843-969c-42d2-8a36-92e858237a72",
   "metadata": {},
   "outputs": [],
   "source": [
    "my_list = [1, 2, 3, 4, 5]\n",
    "sub_list = my_list[1:3]  # 获取索引从 1 到 2 的子列表，结果为 [2, 3]\n",
    "\n",
    "my_list = [1, 2, 3, 4, 5]\n",
    "sub_list = my_list[::-1]  # 逆序获取整个列表的子列表，结果为 [5, 4, 3, 2, 1]\n",
    "\n",
    "my_list = [1, 2, 3, 4, 5]\n",
    "sub_list = my_list[0:5:2]  # 从索引 0 开始，到索引 5 结束，步长为 2，结果为 [1, 3, 5]\n"
   ]
  },
  {
   "cell_type": "code",
   "execution_count": null,
   "id": "fa54a5e7-0c08-4dfb-b1b0-4d56f436426d",
   "metadata": {},
   "outputs": [],
   "source": [
    "type(fruits)"
   ]
  },
  {
   "cell_type": "code",
   "execution_count": null,
   "id": "8b76b695-6802-40e6-81ad-f20b06cf22cb",
   "metadata": {},
   "outputs": [],
   "source": [
    "coordinates = (10.0,12.0,'df')"
   ]
  },
  {
   "cell_type": "code",
   "execution_count": null,
   "id": "bef1643b-48e0-4edf-b7fa-e876e73db509",
   "metadata": {},
   "outputs": [],
   "source": [
    "dictionary ={\"minhaohui\":\"mhy\",\"sanyueqi\":3.7,3:7,'info':{'2':'3','genshin':7}}\n",
    "print(my_dict['name'])  # 获取键为 'name' 的值，结果为 'Alice'\n",
    "my_dict['age'] = 26  # 将键 'age' 对应的值修改为 26\n",
    "my_dict['gender'] = 'female'  # 向字典中添加新的键值对 'gender': 'female'\n",
    "del my_dict['city']  # 删除键为 'city' 的键值对\n",
    "keys = my_dict.keys()  # 获取字典中所有的键\n",
    "values = my_dict.values()  # 获取字典中所有的值\n",
    "if 'age' in my_dict:\n",
    "    print(\"Age exists in the dictionary\")\n",
    "my_dict.clear()  # 清空字典中的所有键值对\n",
    "new_dict = my_dict.copy()  # 复制原始字典，生成一个新的字典\n"
   ]
  },
  {
   "cell_type": "code",
   "execution_count": null,
   "id": "b1e1d990-b304-4b87-89cb-549ebfd86989",
   "metadata": {},
   "outputs": [],
   "source": [
    "set = {1,3,4,2,'2'}"
   ]
  },
  {
   "cell_type": "code",
   "execution_count": null,
   "id": "259173a2-3a79-4f97-9616-fc9d0d32b72b",
   "metadata": {},
   "outputs": [],
   "source": [
    "for i in range(0,9,1):\n",
    "    print(i)"
   ]
  },
  {
   "cell_type": "code",
   "execution_count": null,
   "id": "b1ac1a08-a1d8-4195-b36b-818e52c3ddeb",
   "metadata": {},
   "outputs": [],
   "source": [
    "squares = [i**3 for i in range(10)]#列表推导式\n",
    "squares"
   ]
  },
  {
   "cell_type": "code",
   "execution_count": null,
   "id": "206fcf62-15d0-4d8b-8f88-eb5b0f30cf5f",
   "metadata": {},
   "outputs": [],
   "source": [
    "list1 = [1, 2, 3]\n",
    "list2 = [4, 5, 6]\n",
    "list1.extend(list2)  # 使用 extend() 方法将 list2 扩展到 list1 中\n",
    "print(list1)  # 输出 [1, 2, 3, 4, 5, 6]\n",
    "\n",
    "list1 = [1, 2, 3]\n",
    "list2 = [4, 5, 6]\n",
    "merged_list = list1 + list2  # 使用 + 运算符将 list1 和 list2 合并\n",
    "print(merged_list)  # 输出 [1, 2, 3, 4, 5, 6]\n"
   ]
  },
  {
   "cell_type": "code",
   "execution_count": null,
   "id": "59bb5439-71d2-45cb-936c-878b222292b5",
   "metadata": {},
   "outputs": [],
   "source": [
    "list1 = [1, 2, 3]\n",
    "list2 = [4, 5, 6]\n",
    "list1.append(list2)  # 使用 extend() 方法将 list2 嵌套到 list1 中\n",
    "print(list1)  # 输出 [1, 2, 3, [4, 5, 6]]\n"
   ]
  },
  {
   "cell_type": "code",
   "execution_count": null,
   "id": "5137cc59-62d1-41d7-898e-707b44c60671",
   "metadata": {},
   "outputs": [],
   "source": [
    "my_list = [1, 2, 3, 4, 5]\n",
    "my_list.insert(2, 'inserted')  # 在索引 2 的位置插入元素 'inserted'\n",
    "print(my_list)  # 输出 [1, 2, 'inserted', 3, 4, 5]\n",
    "my_list = [1, 2, 3, 4, 5]\n",
    "my_list.remove(3)  # 移除值为 3 的元素\n",
    "print(my_list)  # 输出 [1, 2, 4, 5]\n",
    "\n",
    "my_list = [1, 2, 3, 4, 5]\n",
    "my_list.clear()  # 清空列表\n",
    "print(my_list)  # 输出 []\n"
   ]
  },
  {
   "cell_type": "code",
   "execution_count": null,
   "id": "fe492d03-155c-4221-958a-a56f44204745",
   "metadata": {},
   "outputs": [],
   "source": [
    "# 创建一个未排序的列表\n",
    "my_list = [3, 1, 4, 1, 5, 9, 2, 6, 5, 3]\n",
    "\n",
    "# 使用 sort() 方法对列表进行就地排序（升序）\n",
    "my_list.sort()\n",
    "print(\"升序排序后的列表：\", my_list)\n",
    "\n",
    "# 使用 sort() 方法的 reverse 参数进行降序排序\n",
    "my_list.sort(reverse=True)\n",
    "print(\"降序排序后的列表：\", my_list)\n",
    "\n",
    "# 创建一个新的列表，不改变原始列表\n",
    "unsorted_list = [7, 2, 8, 5, 0, 4]\n",
    "sorted_list = sorted(unsorted_list)  # 使用内置函数 sorted() 返回排序后的新列表\n",
    "print(\"未改变原始列表的升序排序结果：\", sorted_list)\n",
    "\n",
    "# 使用 lambda 函数自定义排序规则（按元素的倒数进行排序）\n",
    "custom_sorted_list = sorted(my_list, key=lambda x: 1/x)\n",
    "print(\"按元素的倒数排序后的列表：\", custom_sorted_list)\n"
   ]
  },
  {
   "cell_type": "code",
   "execution_count": null,
   "id": "9be12878-740f-485b-b87e-28aabe30f63c",
   "metadata": {},
   "outputs": [],
   "source": [
    "squares = {i:i**3 for i in range(10)}#字典推导式\n",
    "print(squares)"
   ]
  },
  {
   "cell_type": "code",
   "execution_count": null,
   "id": "529863fe-8501-4d5f-afbd-fd3cc559ee73",
   "metadata": {},
   "outputs": [],
   "source": [
    "squares = {i:4 for i in range(10)}#字典推导式\n",
    "print(squares)"
   ]
  },
  {
   "cell_type": "code",
   "execution_count": null,
   "id": "51c43a35-2a47-4572-982c-9c29d349d33a",
   "metadata": {},
   "outputs": [],
   "source": [
    "# 创建一个字典\n",
    "my_dict = {'name': 'Alice', 'age': 25, 'city': 'New York'}\n",
    "\n",
    "# 使用 get() 函数访问字典中的元素\n",
    "print(my_dict.get('name'))  # 输出 'Alice'\n",
    "print(my_dict.get('age'))  # 输出 25\n",
    "print(my_dict.get('gender'))  # 输出 None，因为'gender'键不存在\n",
    "\n",
    "# 提供默认值参数\n",
    "print(my_dict.get('gender', 'Unknown'))  # 输出 'Unknown'，因为'gender'键不存在，返回了默认值\n"
   ]
  },
  {
   "cell_type": "code",
   "execution_count": null,
   "id": "dad7aa9a-cba1-489a-855e-ffd56b6cfcdc",
   "metadata": {},
   "outputs": [],
   "source": [
    "# 创建两个字典\n",
    "dict1 = {'a': 1, 'b': 2}\n",
    "dict2 = {'b': 3, 'c': 4}\n",
    "\n",
    "# 使用 update() 方法将 dict2 的内容更新到 dict1 中\n",
    "dict1.update(dict2)\n",
    "\n",
    "print(\"更新后的字典 dict1:\", dict1)\n"
   ]
  },
  {
   "cell_type": "code",
   "execution_count": null,
   "id": "6a6159d4-cea7-4383-8fe9-5d1bab255e09",
   "metadata": {},
   "outputs": [],
   "source": [
    "# 创建一个字典\n",
    "my_dict = {'name': 'Alice', 'age': 25, 'city': 'New York'}\n",
    "\n",
    "# 迭代输出所有键\n",
    "print(\"所有键:\")\n",
    "for key in my_dict.keys():\n",
    "    print(key)\n",
    "\n",
    "# 迭代输出所有值\n",
    "print(\"\\n所有值:\")\n",
    "for value in my_dict.values():\n",
    "    print(value)\n",
    "\n",
    "# 迭代输出所有项（键值对）\n",
    "print(\"\\n所有项:\")\n",
    "for key, value in my_dict.items():\n",
    "    print(f\"{key}: {value}\")\n"
   ]
  },
  {
   "cell_type": "code",
   "execution_count": null,
   "id": "2729af62-366e-4d62-bf51-13b70313c2d9",
   "metadata": {},
   "outputs": [],
   "source": [
    "for num in range(1,10):\n",
    "    if num == 5:\n",
    "        break\n",
    "    if num %2 ==0:\n",
    "        continue\n",
    "    print(num)"
   ]
  },
  {
   "cell_type": "markdown",
   "id": "751ca4ad-eea6-4dc0-a7c3-7ad28d631c28",
   "metadata": {},
   "source": [
    "- 当break运行时，炸掉离它最近的循环。\n",
    "- 控制结构本质是理解缩进，理解了缩进表示的“管辖范围”，就知道了控制结构有什么。"
   ]
  },
  {
   "cell_type": "code",
   "execution_count": null,
   "id": "f0858c14-8b3d-49d6-b41d-bd5c62a04d1b",
   "metadata": {},
   "outputs": [],
   "source": [
    "for num in range(1,10):\n",
    "    if num == 5:\n",
    "        break\n",
    "    print(num)"
   ]
  },
  {
   "cell_type": "code",
   "execution_count": null,
   "id": "f38297c9-92c8-4d89-a99c-b936956e3724",
   "metadata": {},
   "outputs": [],
   "source": [
    "for num in range(1,10):\n",
    "    print(num)\n",
    "    break\n",
    "    "
   ]
  },
  {
   "cell_type": "code",
   "execution_count": null,
   "id": "86d0e7be-edcd-4e22-99c1-7c24813d13c9",
   "metadata": {},
   "outputs": [],
   "source": [
    "for num in range(1,10):\n",
    "    print(num)\n",
    "    continue\n",
    "    "
   ]
  },
  {
   "cell_type": "code",
   "execution_count": null,
   "id": "21309623-fedd-4f59-ac1a-a3dc5088b102",
   "metadata": {},
   "outputs": [],
   "source": [
    "for num in range(1,10):\n",
    "    print(num)\n",
    "    print('A')\n",
    "    \n",
    "    continue"
   ]
  },
  {
   "cell_type": "markdown",
   "id": "c4304567-1ddc-48ec-b03f-23651c3c3f47",
   "metadata": {},
   "source": [
    "- continue之后的不运行，重启循环。\n",
    "- 循环嵌套，如双层循环，先跳回最近的。"
   ]
  },
  {
   "cell_type": "code",
   "execution_count": null,
   "id": "514122df-8b35-4c5f-af90-694a497938fe",
   "metadata": {},
   "outputs": [],
   "source": [
    "for i in range(3):\n",
    "    for j in [8,9]:\n",
    "        print(i*j)\n",
    "        break\n",
    "        print(i*j)"
   ]
  },
  {
   "cell_type": "code",
   "execution_count": null,
   "id": "e8171eaf-34d1-4270-bb56-51b13bd4bd36",
   "metadata": {},
   "outputs": [],
   "source": [
    "for i in range(3):\n",
    "    for j in [8,9]:\n",
    "        print(i*j)\n",
    "        break\n",
    "    print(i*j)"
   ]
  },
  {
   "cell_type": "code",
   "execution_count": null,
   "id": "1820c59b-5aaa-47a8-9630-76e9c5612c96",
   "metadata": {},
   "outputs": [],
   "source": [
    "for i in range(3):\n",
    "    for j in [8,9]:\n",
    "        print(i*j)\n",
    "        break\n",
    "        print(i*j)\n",
    "    break"
   ]
  },
  {
   "cell_type": "code",
   "execution_count": null,
   "id": "b7f36dbf-bf7a-4c50-b469-94da608cc244",
   "metadata": {},
   "outputs": [],
   "source": [
    "for i in range(3):\n",
    "    for j in [8,9]:\n",
    "        print(i*j)\n",
    "    break\n",
    "        print(i*j)\n",
    "   "
   ]
  },
  {
   "cell_type": "code",
   "execution_count": null,
   "id": "5a80234b-26e6-4d70-b084-2b0e66472b20",
   "metadata": {},
   "outputs": [],
   "source": [
    "# 尝试打开文件，并写入一些数据\n",
    "try:\n",
    "    f = open(\"test.txt\", \"w\")  # 尝试打开文件\n",
    "    f.write(\"Hello, world!\")  # 尝试向文件中写入数据\n",
    "except OSError:  # 捕获 OSError 类型的异常\n",
    "    pass  # 如果出现异常，什么也不做\n",
    "else:\n",
    "    print(\"Data written successfully!\")  # 如果文件操作成功，打印出提示信息\n",
    "finally:\n",
    "    f.close()  # 不管怎样，最终都要关闭文件\n",
    "\n",
    "# 假设在上面的代码中，\"test.txt\" 文件不存在，会触发 OSError 异常\n",
    "\n",
    "try:\n",
    "    a = 10 / 0  # 尝试进行除零操作\n",
    "except ZeroDivisionError as e:  # 捕获 ZeroDivisionError 类型的异常，并将其保存到变量 e 中\n",
    "    print(\"Caught an exception:\", e)  # 打印出异常信息\n",
    "finally:\n",
    "    print(\"Finished!\")  # 最终都要执行这句话，无论是否发生异常\n"
   ]
  },
  {
   "cell_type": "code",
   "execution_count": null,
   "id": "16bd8cde-ff49-44c5-acae-31461ce0eacd",
   "metadata": {},
   "outputs": [],
   "source": [
    "numbers = [1,2,3,4,5,6]\n",
    "evens = [num for num in numbers if num%2==0]\n",
    "print(evens)"
   ]
  },
  {
   "cell_type": "code",
   "execution_count": null,
   "id": "c34be015-35f7-443b-bf4e-7cdf158ffb5e",
   "metadata": {},
   "outputs": [],
   "source": [
    "numbers = [1,2,3,4,5,6]\n",
    "evens=[]\n",
    "for num in numbers:\n",
    "    if num%2==0:\n",
    "        evens.append(num)\n",
    "print(evens)"
   ]
  },
  {
   "cell_type": "code",
   "execution_count": null,
   "id": "d00ca184-b12a-46fd-949a-96a2aeaa31c5",
   "metadata": {},
   "outputs": [],
   "source": [
    "martix = [[1,2,3],[4,5,6],[7,8,9]]\n",
    "flattened = [num for row in martix for num in row]\n",
    "print(flattened)"
   ]
  },
  {
   "cell_type": "code",
   "execution_count": null,
   "id": "99c2538f-392a-45c0-a550-0895678bb575",
   "metadata": {},
   "outputs": [],
   "source": [
    "martix = [[1,2,3],[4,5,6],[7,8,9]]\n",
    "flattened=[]\n",
    "for row in martix:\n",
    "    for num in row:\n",
    "        flattened.append(num)\n",
    "print(flattened)"
   ]
  },
  {
   "cell_type": "code",
   "execution_count": null,
   "id": "3647f41c-ac8a-4f8a-a3ed-695977d30d84",
   "metadata": {},
   "outputs": [],
   "source": [
    "def factorial(n):\n",
    "    if n ==1:\n",
    "        return n #跳出部分\n",
    "    else:\n",
    "        return n*factorial(n-1) #递归部分\n",
    "print(factorial(5))"
   ]
  },
  {
   "cell_type": "code",
   "execution_count": null,
   "id": "41d5e347-bd8f-418e-87c6-ad59283b0bd0",
   "metadata": {},
   "outputs": [],
   "source": [
    "def fibonacci(n):\n",
    "    if n <= 0:\n",
    "        return \"Invalid input\"  # 对于非正整数的输入，返回错误信息\n",
    "    elif n == 1 or n == 2:\n",
    "        return 1  # 斐波那契数列的第一项和第二项都是 1\n",
    "    else:\n",
    "        return fibonacci(n-1) + fibonacci(n-2)  # 递归调用 fibonacci 函数来计算第 n 项\n",
    "\n",
    "# 测试代码\n",
    "print(fibonacci(6))  # 输出斐波那契数列的第 6 项\n"
   ]
  },
  {
   "cell_type": "code",
   "execution_count": null,
   "id": "38e308a8-d1d9-4180-9271-21085f9f3298",
   "metadata": {},
   "outputs": [],
   "source": [
    "def binary_search(arr, low, high, x):\n",
    "    if high >= low:\n",
    "        mid = (low + high) // 2\n",
    "        if arr[mid] == x:\n",
    "            return mid\n",
    "        elif arr[mid] > x:\n",
    "            return binary_search(arr, low, mid - 1, x)\n",
    "        else:\n",
    "            return binary_search(arr, mid + 1, high, x)\n",
    "    else:\n",
    "        return -1\n",
    "\n",
    "# 测试代码\n",
    "arr = [1, 3, 5, 7, 9]\n",
    "x = 5\n",
    "result = binary_search(arr, 0, len(arr) - 1, x)\n",
    "print(result)  # 输出 2\n"
   ]
  },
  {
   "cell_type": "code",
   "execution_count": null,
   "id": "33f0c07e-442f-4010-8956-1bc9e06783f2",
   "metadata": {},
   "outputs": [],
   "source": [
    "def greet(name):\n",
    "    print(f\"Hello,{name}!\")\n",
    "greet(\"minhaohui\")"
   ]
  },
  {
   "cell_type": "code",
   "execution_count": null,
   "id": "32023a5b-52c1-4c7c-8ffe-638849c01da8",
   "metadata": {},
   "outputs": [],
   "source": [
    "a=9\n",
    "f\"Hello, {a:.8f}!\""
   ]
  },
  {
   "cell_type": "code",
   "execution_count": null,
   "id": "4d709861-c78a-4093-9b86-81d2015f88da",
   "metadata": {},
   "outputs": [],
   "source": [
    "\"Hello,{1}!{0}\".format('9','0')"
   ]
  },
  {
   "cell_type": "code",
   "execution_count": null,
   "id": "dcb084ac-1e96-4331-a896-9ad47fc3948e",
   "metadata": {},
   "outputs": [],
   "source": [
    "def add(a,b):\n",
    "    return a+b\n",
    "\n",
    "result =add(5,7)\n",
    "print(result)"
   ]
  },
  {
   "cell_type": "code",
   "execution_count": null,
   "id": "9341aa8e-0aee-46bb-976b-1a7920fce6d2",
   "metadata": {},
   "outputs": [],
   "source": [
    "a =0\n",
    "def func(b):\n",
    "    c=9\n",
    "    a=10\n",
    "    return a-b\n",
    "func(1)\n",
    "print(a)"
   ]
  },
  {
   "cell_type": "code",
   "execution_count": null,
   "id": "f8379b4f-7e69-490f-892d-c467febe306f",
   "metadata": {},
   "outputs": [],
   "source": [
    "print(func(1))"
   ]
  },
  {
   "cell_type": "markdown",
   "id": "f3e07c24-29a5-43c1-a1b9-722284006a33",
   "metadata": {},
   "source": [
    "- 局部变量遮蔽全局变量\n",
    "- 在嵌套函数中，内部函数可以访问外部函数的局部作用域。\n",
    "- 局部作用域、全局作用域，global"
   ]
  },
  {
   "cell_type": "markdown",
   "id": "ec27162f-4fae-4c6a-818b-40d66e44b976",
   "metadata": {},
   "source": [
    "**参数类型**\n",
    "- 1，位置参数\n",
    "- 2，关键字参数\n",
    "- 3，默认参数\n",
    "- 4，可变参数"
   ]
  },
  {
   "cell_type": "code",
   "execution_count": null,
   "id": "57249a23-cedf-427f-bf99-86ef9a3a68d0",
   "metadata": {},
   "outputs": [],
   "source": [
    "def func(a,b):\n",
    "    return a-b\n",
    "func(b=1,a=10)"
   ]
  },
  {
   "cell_type": "code",
   "execution_count": null,
   "id": "4db62a80-0bd6-4a5a-ab6e-7cf1af6dfbbb",
   "metadata": {},
   "outputs": [],
   "source": [
    "func(1,10)"
   ]
  },
  {
   "cell_type": "code",
   "execution_count": null,
   "id": "f2594107-5bab-4197-934d-f87c073d66d8",
   "metadata": {},
   "outputs": [],
   "source": [
    "def cup(size=\"medium\",tea_type=\"cappuccino\"):\n",
    "    print(f\"Making a {size} {tea_type} tee.\")\n",
    "    \n",
    "cup(size =\"large\",tea_type=\"yingbin\")\n",
    "cup()\n",
    "cup(size=\"small\")"
   ]
  },
  {
   "cell_type": "code",
   "execution_count": null,
   "id": "cdf9fcc2-0925-4989-b4ba-c6d0ded5d109",
   "metadata": {},
   "outputs": [],
   "source": [
    "def greet(name,message=\"Good\"):\n",
    "    print(f\"Hello,{name},{message}\")\n",
    "greet(\"minhaohui\",message=\"yuanshen launched\")"
   ]
  },
  {
   "cell_type": "code",
   "execution_count": null,
   "id": "57db920b-66fe-4572-8f81-5aaf1b65a379",
   "metadata": {},
   "outputs": [],
   "source": [
    "def make_sandwich(*ingredients):\n",
    "    print(\"Making a sandwich with:\",','.join(ingredients))"
   ]
  },
  {
   "cell_type": "code",
   "execution_count": null,
   "id": "9449e046-cf6c-4108-86a9-6355d9f236c3",
   "metadata": {},
   "outputs": [],
   "source": [
    "make_sandwich(\"cheese\",\"tomato\",\"liuying\")"
   ]
  },
  {
   "cell_type": "code",
   "execution_count": null,
   "id": "900badd7-0abc-4a12-811f-cf60f80ade18",
   "metadata": {},
   "outputs": [],
   "source": [
    "'dfdfd'.join(['a','b','c'])"
   ]
  },
  {
   "cell_type": "code",
   "execution_count": null,
   "id": "5121b272-e7ba-44cb-bdb2-9f68cdaaa5a7",
   "metadata": {},
   "outputs": [],
   "source": [
    "def print_fruits(*fruits):\n",
    "    print(fruits)\n",
    "    print(type(fruits))\n",
    "    for fruit in fruits:\n",
    "        print(fruit)\n",
    "        \n",
    "print_fruits(\"Apple\",\"Banana\",\"Cherry\")"
   ]
  },
  {
   "cell_type": "code",
   "execution_count": null,
   "id": "269cbcd2-6138-4570-8c21-3dea53b9e689",
   "metadata": {},
   "outputs": [],
   "source": [
    "def person_details(**details):\n",
    "    print(type(details))\n",
    "    for key,value in details.items():\n",
    "        print(f\"{key}:{value}\")"
   ]
  },
  {
   "cell_type": "code",
   "execution_count": null,
   "id": "cdd0af33-054a-4ec3-b7b0-7e46a4fc1712",
   "metadata": {},
   "outputs": [],
   "source": [
    "person_details(Name=\"minhaohui\",Age=393,City=\"Liyue\")"
   ]
  },
  {
   "cell_type": "code",
   "execution_count": null,
   "id": "4daddea7-5f29-449f-bc9d-c6c87267f88e",
   "metadata": {},
   "outputs": [],
   "source": [
    "def create_profile(name,email,*args,**kwargs):\n",
    "    print(f\"Name: {name}\\nEmail:{email}\")\n",
    "    for hobby in args:\n",
    "        print(f\"Hobby:{hobby}\")\n",
    "    for key,value in kwargs.items():\n",
    "        print(f\"{key}:{value}\")\n",
    "        \n",
    "create_profile(\"minhaohui\",\"minhaohui@sunzhengs.com\",\"eating\",\"genshin\",Age = 114514,City=\"xumi\")"
   ]
  },
  {
   "cell_type": "code",
   "execution_count": null,
   "id": "d7881e3b-ef2d-40b0-b106-6f102d0cbff0",
   "metadata": {},
   "outputs": [],
   "source": [
    "def create_profile(params):\n",
    "    name =params['name']\n",
    "    return name"
   ]
  },
  {
   "cell_type": "code",
   "execution_count": null,
   "id": "96bb3e45-2241-4a48-aa1d-e5071d679c63",
   "metadata": {},
   "outputs": [],
   "source": [
    "params ={\n",
    "    'name':'minhaohui',\n",
    "    'Age':114514,\n",
    "    'City':\"Liyue\"\n",
    "    }"
   ]
  },
  {
   "cell_type": "code",
   "execution_count": null,
   "id": "627d177f-f4f5-4733-a094-283a93d1cc66",
   "metadata": {},
   "outputs": [],
   "source": [
    ".json  .txt  .yaml\n"
   ]
  },
  {
   "cell_type": "code",
   "execution_count": null,
   "id": "8c09e0d7-c0ff-401a-b4b2-b96c6aed110b",
   "metadata": {},
   "outputs": [],
   "source": [
    "a=1\n",
    "b=4\n",
    "def func(a,b):\n",
    "    return a-b\n",
    "func(b=a,a=b)"
   ]
  },
  {
   "cell_type": "code",
   "execution_count": null,
   "id": "fa634047-580f-4abd-8ec4-08b5f1400a4c",
   "metadata": {},
   "outputs": [],
   "source": [
    "cmd pip install joblib "
   ]
  },
  {
   "cell_type": "code",
   "execution_count": null,
   "id": "37abf58c-28b9-4e0e-825e-e6a296a7f8fb",
   "metadata": {},
   "outputs": [],
   "source": [
    "import math\n",
    "print(math.sqrt(16))"
   ]
  },
  {
   "cell_type": "code",
   "execution_count": null,
   "id": "52d5188c-69af-4203-896d-1d4b7813d1c4",
   "metadata": {},
   "outputs": [],
   "source": [
    "import joblib\n",
    "import pandas as pd\n",
    "import numpy as np"
   ]
  },
  {
   "cell_type": "code",
   "execution_count": null,
   "id": "00efa536-2e1a-4032-9fc6-e7d9124a470d",
   "metadata": {},
   "outputs": [],
   "source": [
    "pd.DataFrame"
   ]
  },
  {
   "cell_type": "code",
   "execution_count": null,
   "id": "4aeb759f-add8-4ffa-ad9f-77f13bf32715",
   "metadata": {},
   "outputs": [],
   "source": [
    "from joblib import dump,load"
   ]
  },
  {
   "cell_type": "code",
   "execution_count": null,
   "id": "16971ac0-d52a-4185-a44d-977fe089ee87",
   "metadata": {},
   "outputs": [],
   "source": [
    "joblib.dump"
   ]
  },
  {
   "cell_type": "code",
   "execution_count": null,
   "id": "7b68aafc-90f8-491e-9969-0742d51af8a3",
   "metadata": {},
   "outputs": [],
   "source": [
    "import hello\n",
    "hello.say_hello()"
   ]
  },
  {
   "cell_type": "code",
   "execution_count": null,
   "id": "c504d99c-fd70-4ce7-a5e4-64a86b8884dc",
   "metadata": {},
   "outputs": [],
   "source": [
    "my_package/\n",
    "├── __init__.py\n",
    "├── my_modle.py\n",
    "└── module2.py\n",
    "\n",
    "0 directories, 3 files\n"
   ]
  },
  {
   "cell_type": "code",
   "execution_count": null,
   "id": "93f41dd3-f80f-462d-9183-07d1bc517d36",
   "metadata": {},
   "outputs": [],
   "source": [
    "import my_pachage"
   ]
  },
  {
   "cell_type": "code",
   "execution_count": null,
   "id": "39ebcda1-a1a2-48a3-9b55-ff33ce433a42",
   "metadata": {},
   "outputs": [],
   "source": [
    "my_package.my_modle.say_hello()"
   ]
  },
  {
   "cell_type": "code",
   "execution_count": null,
   "id": "de952977-b7ca-447f-ad9b-0591e75346fe",
   "metadata": {},
   "outputs": [],
   "source": [
    "from utils import*"
   ]
  },
  {
   "cell_type": "code",
   "execution_count": null,
   "id": "3a5828da-c1c4-4ead-8de6-0bd29bb570ba",
   "metadata": {},
   "outputs": [],
   "source": []
  },
  {
   "cell_type": "code",
   "execution_count": null,
   "id": "e871b428-2860-402b-b442-3d01f6f8ea39",
   "metadata": {},
   "outputs": [],
   "source": [
    "def multiply(x,y):\n",
    "    return x*y"
   ]
  },
  {
   "cell_type": "code",
   "execution_count": null,
   "id": "02bb2000-8798-4083-ae03-cd4323713c7f",
   "metadata": {},
   "outputs": [],
   "source": [
    "multiply = lambda x,y : x*y\n",
    "print(multiply(5,6))"
   ]
  },
  {
   "cell_type": "code",
   "execution_count": null,
   "id": "68261c2c-4922-446a-880c-e263c133c393",
   "metadata": {},
   "outputs": [],
   "source": [
    "lambda x,y : x*y\n",
    "print(multiply(5,6))"
   ]
  },
  {
   "cell_type": "markdown",
   "id": "381710d1-5d19-441a-8b37-a6dd4bac802e",
   "metadata": {},
   "source": [
    "lambda 排序"
   ]
  },
  {
   "cell_type": "code",
   "execution_count": null,
   "id": "237578b9-d393-471d-b95f-cc691ee43999",
   "metadata": {},
   "outputs": [],
   "source": [
    "points = [(1,2),(3,1),(5,-1)]\n",
    "points.sort(key=lambda point: point[1])\n",
    "print(points)"
   ]
  },
  {
   "cell_type": "code",
   "execution_count": null,
   "id": "05aff970-d02a-48c0-912f-e909d76ef1dd",
   "metadata": {},
   "outputs": [],
   "source": [
    "square = lambda x: x*x\n",
    "print(square(5))"
   ]
  },
  {
   "cell_type": "markdown",
   "id": "b6a3557d-aafc-4579-80e4-42ed271fe0b9",
   "metadata": {},
   "source": [
    "- 生成器是一种迭代器，它在每次迭代计算和返回下一个值，而不是一次性计算所有值"
   ]
  },
  {
   "cell_type": "code",
   "execution_count": null,
   "id": "bd451840-9d8a-4f14-b6c6-73a161facc7e",
   "metadata": {},
   "outputs": [],
   "source": [
    "def number_generator():\n",
    "    for i in range(5):\n",
    "        yield i**2\n",
    "\n",
    "gen=number_generator()\n",
    "\n",
    "for number in gen:\n",
    "    print(number)"
   ]
  },
  {
   "cell_type": "markdown",
   "id": "9f79c96e-6759-4777-a131-e4a723496f0b",
   "metadata": {},
   "source": [
    "- 闭包也是一种函数，他记住了其环境中的变量，即使在其作用域外部也能访问这些变量"
   ]
  },
  {
   "cell_type": "code",
   "execution_count": null,
   "id": "1409834c-cf6c-41bb-89b6-c752ae2dcce0",
   "metadata": {},
   "outputs": [],
   "source": [
    "def outer_function(msg):\n",
    "    def inner_function():\n",
    "        print(msg)\n",
    "    return inner_function\n",
    "\n",
    "hello_func = outer_function(\"Hello\")\n",
    "bye_func = outer_function(\"Goodbye\")\n",
    "\n",
    "hello_func()\n",
    "bye_func()"
   ]
  },
  {
   "cell_type": "code",
   "execution_count": null,
   "id": "73e64b88-d3c6-4f6e-9fb0-cb5f565a9889",
   "metadata": {},
   "outputs": [],
   "source": [
    "- 装饰器是一种接受函数并返回增强版函数的函数它们通常用于扩展原有函数功能，而不修改器结构。"
   ]
  },
  {
   "cell_type": "code",
   "execution_count": null,
   "id": "b24150a3-ae0a-4b46-80f1-4ab9df85154f",
   "metadata": {},
   "outputs": [],
   "source": [
    "def decorator_function(original_function):\n",
    "    def wrapper_function():\n",
    "        print(f\"wrapper excuted this before {original_function.__name__}\")\n",
    "        return original_function()\n",
    "    return wrapper_function\n",
    "\n",
    "@decorator_function\n",
    "def display():\n",
    "    print(\"Display function ran\")\n",
    "    \n",
    "display()"
   ]
  },
  {
   "cell_type": "code",
   "execution_count": null,
   "id": "5ce11d6a-7a20-4497-91d2-4add325545cf",
   "metadata": {},
   "outputs": [],
   "source": [
    "display.__name__"
   ]
  },
  {
   "cell_type": "code",
   "execution_count": null,
   "id": "bf60c921-4329-42ea-ac2c-1e2d5216d4c5",
   "metadata": {},
   "outputs": [],
   "source": [
    "a=display\n",
    "a.__name__"
   ]
  },
  {
   "cell_type": "code",
   "execution_count": null,
   "id": "ffbbcf4e-1701-44e5-a794-acb7fef547bb",
   "metadata": {},
   "outputs": [],
   "source": [
    "def my_decorator(func):\n",
    "    def wrapper():\n",
    "        print(\"Something before the function is called.\")\n",
    "        func()\n",
    "        print(\"Something after the function is called.\")\n",
    "    return wrapper\n",
    "\n",
    "@my_decorator\n",
    "def say_hello():\n",
    "    print(\"Hello!\")\n",
    "    \n",
    "say_hello()"
   ]
  },
  {
   "cell_type": "code",
   "execution_count": null,
   "id": "e8ad8c4e-02b2-4482-b62e-84eb8071ec9f",
   "metadata": {},
   "outputs": [],
   "source": [
    "# 含参装饰器\n",
    "\n",
    "def prefix_decorator(prefix):\n",
    "    def decorator_function(original_function):\n",
    "        def wrapper_function(*args, **kwargs):\n",
    "            print(f\"{prefix} Executed this before {original_function.__name__}\")\n",
    "            result= original_function(*args, **kwargs)\n",
    "            print(f\"{prefix} Executed this after {original_function.__name__}\")\n",
    "            return result\n",
    "        return wrapper_function\n",
    "    return decorator_function\n",
    "\n",
    "@prefix_decorator('LOG:')\n",
    "def display_info(name, age):\n",
    "    print(f\"Display function ran with arguments: {name}, {age}\")\n",
    "\n",
    "display_info('Alice', 25)\n"
   ]
  },
  {
   "cell_type": "code",
   "execution_count": null,
   "id": "2c59e85b-79b3-4124-8e9e-5be13b06c19e",
   "metadata": {},
   "outputs": [],
   "source": []
  },
  {
   "cell_type": "code",
   "execution_count": null,
   "id": "019ce2b2-1683-4e99-bc5c-a5d3fea503f3",
   "metadata": {},
   "outputs": [],
   "source": []
  },
  {
   "cell_type": "code",
   "execution_count": null,
   "id": "770d50d1-aed6-450a-b4fa-f6b522c35fa7",
   "metadata": {},
   "outputs": [],
   "source": []
  },
  {
   "cell_type": "code",
   "execution_count": null,
   "id": "f86afd32-39f1-499b-b1e7-b6fa711add7f",
   "metadata": {},
   "outputs": [],
   "source": [
    "a=input()"
   ]
  },
  {
   "cell_type": "code",
   "execution_count": null,
   "id": "9595a206-8c60-4238-bb05-2fa96cdb51a5",
   "metadata": {},
   "outputs": [],
   "source": [
    "ls = a.split(' ')"
   ]
  },
  {
   "cell_type": "code",
   "execution_count": null,
   "id": "093410b3-902a-42da-9e70-4218767397af",
   "metadata": {},
   "outputs": [],
   "source": [
    "num_ls=[]\n",
    "for num in ls:\n",
    "    num_ls.append(int(num))"
   ]
  },
  {
   "cell_type": "code",
   "execution_count": null,
   "id": "1323febd-45c3-404f-8521-cc7948aac01a",
   "metadata": {},
   "outputs": [],
   "source": [
    "num_ls"
   ]
  },
  {
   "cell_type": "code",
   "execution_count": null,
   "id": "9d7cf9a8-0a57-4aa9-8da9-87fa4b9ec93f",
   "metadata": {},
   "outputs": [],
   "source": [
    "max(num_ls)"
   ]
  },
  {
   "cell_type": "code",
   "execution_count": null,
   "id": "def15e1f-d021-49f4-a17c-7abba213df51",
   "metadata": {},
   "outputs": [],
   "source": [
    "min(num_ls)"
   ]
  },
  {
   "cell_type": "code",
   "execution_count": null,
   "id": "a1df36fa-9037-45d6-af83-a38a5a916921",
   "metadata": {},
   "outputs": [],
   "source": [
    "numbers=list(map(int,input().split()))"
   ]
  },
  {
   "cell_type": "code",
   "execution_count": null,
   "id": "ef7bce88-2a9c-4bbd-9405-133bd91d032b",
   "metadata": {},
   "outputs": [],
   "source": [
    "numbers"
   ]
  },
  {
   "cell_type": "code",
   "execution_count": null,
   "id": "32297856-a3da-4da0-930e-2e5896f6901f",
   "metadata": {},
   "outputs": [],
   "source": [
    "print(max(num_ls),min(num_ls))\n",
    "print(*numbers)"
   ]
  },
  {
   "cell_type": "code",
   "execution_count": null,
   "id": "e9a1c83d-0963-46bf-a8bf-5cd8bb682c59",
   "metadata": {},
   "outputs": [],
   "source": [
    "for num in numbers:\n",
    "    print(num,end=' ')"
   ]
  },
  {
   "cell_type": "code",
   "execution_count": null,
   "id": "ec6135d2-70b9-4041-af3c-cf18a2d8e2fd",
   "metadata": {},
   "outputs": [],
   "source": [
    "import matplotlib.pyplot as plt\n",
    "\n",
    "#数据\n",
    "x = range(1,6)\n",
    "y = [1,4,9,16,25]\n",
    "\n",
    "#绘制线图\n",
    "plt.plot(x,y)\n",
    "plt.title(\"Basic Line Plot\")\n",
    "plt.xlabel(\"X Axis\")\n",
    "plt.ylabel(\"Y Axis\")\n",
    "plt.show()"
   ]
  },
  {
   "cell_type": "code",
   "execution_count": null,
   "id": "0aca7d75-5c7f-4bc3-b1c7-b6b5be5de2bf",
   "metadata": {},
   "outputs": [],
   "source": [
    "#第二个数据数据系列\n",
    "x = range(1,6)\n",
    "y = [1,4,9,16,25]\n",
    "y2 = [1,4,9,16,25]\n",
    "\n",
    "plt.plot(x,y,label='Linear')\n",
    "plt.plot(x,y2,label='Quadratic')\n",
    "plt.legend()\n",
    "plt.show()"
   ]
  },
  {
   "cell_type": "code",
   "execution_count": null,
   "id": "cba6a3b0-7786-484a-9ae2-8d26682b695a",
   "metadata": {},
   "outputs": [],
   "source": [
    "import matplotlib.pyplot as plt\n",
    "\n",
    "x = range(1, 6)\n",
    "y = [1, 4, 9, 16, 25]\n",
    "y2 = [0.5, 3, 8, 15, 24]  # 修改其中一组数据，使之与另一组数据不同\n",
    "\n",
    "plt.plot(x, y, label='Linear')\n",
    "plt.plot(x, y2, label='Quadratic')\n",
    "plt.legend()\n",
    "plt.show()\n"
   ]
  },
  {
   "cell_type": "code",
   "execution_count": null,
   "id": "72808628-b1d9-49f3-82b6-a08c5fb858bc",
   "metadata": {},
   "outputs": [],
   "source": [
    "plt.scatter(x,y)\n",
    "plt.title(\"Simple Scatter Plot\")\n",
    "plt.xlabel(\"X Axis\")\n",
    "plt.ylabel(\"Y Axis\")\n",
    "plt.show()"
   ]
  },
  {
   "cell_type": "code",
   "execution_count": null,
   "id": "29e28f9d-4eeb-402d-a6d5-da0c8dd3c11b",
   "metadata": {},
   "outputs": [],
   "source": [
    "categories = ['a','b','c','d','e']\n",
    "values = [7,12,5,14,8]\n",
    "\n",
    "plt.bar(categories,values)\n",
    "plt.title(\"Basic Bar Chart\")\n",
    "plt.show()"
   ]
  },
  {
   "cell_type": "markdown",
   "id": "13e216c9-bc9e-4a86-802a-2838333cc517",
   "metadata": {},
   "source": [
    "## 1.3枫丹\n",
    "\n",
    "**类和对象**\n",
    "\n",
    "- 类是创建对象的蓝图，它定义了状态（属性）和行为（方法）\n",
    "- 对象是类的实例\n",
    "- Python中类的定义和对象的创建\n",
    "\n",
    "**类的构造函数**\n",
    "\n",
    "- __init__方法用于在创建对象时初始化属性\n",
    "- self关键字代表类实例本身\n",
    "\n",
    "**实例方法和属性**\n",
    "\n",
    "- 如何在类中定义和使用方法\n",
    "- 如何访问和修改对象的属性"
   ]
  },
  {
   "cell_type": "code",
   "execution_count": null,
   "id": "a4d1162d-03f3-44dd-8350-58cbcc7a45fb",
   "metadata": {},
   "outputs": [],
   "source": [
    "#面向对象编程：类与对象\n",
    "\n",
    "class Person:\n",
    "    def __init__(self,Person_name,Person_age):\n",
    "        self.name = Person_name\n",
    "        self.age = Person_age\n",
    "        \n",
    "    def greet(self):\n",
    "        print(f\"Hello,my name is (self.name) and I am (self.age) years old.\")\n",
    "        \n",
    "    def print_address(self,address):\n",
    "        print('address:',address)\n",
    "        self.address=address\n",
    "        \n",
    "#创建对象\n",
    "person1 = Person(\"Alice\",30)\n",
    "person1.print_address('shanghai')\n",
    "person1.greet()"
   ]
  },
  {
   "cell_type": "code",
   "execution_count": null,
   "id": "e78cad55-82f0-4957-9726-8a171b98634e",
   "metadata": {},
   "outputs": [],
   "source": [
    "class Dog:\n",
    "    def __init__(self,name,breed):\n",
    "        self.name=name\n",
    "        self.c=breed=breed\n",
    "        \n",
    "    def bark(self):\n",
    "        print(\"Woof!\")\n",
    "        \n",
    "# 创建DOG的实例\n",
    "my_dog = Dog(\"minhh\",\"Labrador\")\n",
    "my_dog.bark()\n",
    "print(my_dog.name)"
   ]
  },
  {
   "cell_type": "markdown",
   "id": "b0bebe24-7c9f-4e96-b733-6235703f79d4",
   "metadata": {},
   "source": [
    "## 类的高级特性\n",
    "\n",
    "**类变量和实例变量**\n",
    "\n",
    "- 类变量是共享的，用于定义所有实例共有的属性和方法。\n",
    "- 实例变量是独立的，术语各个实例。\n",
    "\n",
    "**私有成员**\n",
    "\n",
    "- 如何定义私有属性和私有方法\n",
    "- 私有成员的访问限制\n",
    "\n",
    "**特殊方法**\n",
    "\n",
    "- __str__和__repr__方法的使用\n",
    "- 其他特殊方法如__len__,__add__"
   ]
  },
  {
   "cell_type": "code",
   "execution_count": null,
   "id": "785f0eb6-01c8-4fc8-bea7-cbb27305f09d",
   "metadata": {},
   "outputs": [],
   "source": [
    "class Car:\n",
    "    wheels = 4\n",
    "    \n",
    "    def __init__(self,make,model):\n",
    "        self.make=make\n",
    "        self.model=model\n",
    "        \n",
    "car1 = Car(\"Toyoota\",\"Corolla\")\n",
    "car2 = Car(\"Honda\",\"Civic\")\n",
    "\n",
    "print(Car.wheels)\n",
    "print(car1.make)\n",
    "print(car2.make)"
   ]
  },
  {
   "cell_type": "code",
   "execution_count": null,
   "id": "b758283f-c592-45ea-9ff1-f7179c4ef401",
   "metadata": {},
   "outputs": [],
   "source": [
    "class Account:\n",
    "    def __init__(self,name,balance):\n",
    "        self.name=name\n",
    "        self.__balance=balance  #私有属性\n",
    "        \n",
    "    def deposit(self,amount):\n",
    "        self.__balance += amount\n",
    "        return self.__balance\n",
    "    \n",
    "acc = Account(\"minhaohui\",1000)\n",
    "acc.deposit(500)"
   ]
  },
  {
   "cell_type": "code",
   "execution_count": null,
   "id": "5714434e-7128-448c-b39b-b0754bcf7c46",
   "metadata": {
    "tags": []
   },
   "outputs": [],
   "source": [
    "acc.__init__(\"Bob\",500)\n",
    "acc.name"
   ]
  },
  {
   "cell_type": "markdown",
   "id": "4c8cb771-991d-4662-86ec-a789e7e06f4d",
   "metadata": {
    "tags": []
   },
   "source": [
    "**继承**\n",
    "\n",
    "**基础继承**\n",
    "\n",
    "- 子类如何继承父类的属性和方法\n",
    "- 基础继承的实现\n",
    "\n",
    "**方法重写**\n",
    "\n",
    "- 子类如何修改继承自父类的行为（方法重写）\n",
    "- 使用super（）调用父类的方法\n",
    "\n",
    "**多重继承**\n",
    "\n",
    "- Python中多重继承的机制\n",
    "- 解决多重继承可能带来的问题。"
   ]
  },
  {
   "cell_type": "code",
   "execution_count": null,
   "id": "754ff8d9-36ac-42a0-bc25-525470eb1eff",
   "metadata": {},
   "outputs": [],
   "source": [
    "class Animal:\n",
    "    def __init__(self,name):\n",
    "        self.name=name\n",
    "        \n",
    "    def speak(self):\n",
    "        pass"
   ]
  },
  {
   "cell_type": "code",
   "execution_count": null,
   "id": "1f9f6c83-2107-4fb8-a2e7-9b725c805116",
   "metadata": {},
   "outputs": [],
   "source": [
    "class Dog(Animal):\n",
    "    def speak(self):\n",
    "        return \"Woof!\"\n",
    "    \n",
    "class Cat(Animal):\n",
    "    def speak(self):\n",
    "        return \"Meow!\"\n",
    "    \n",
    "dog = Dog(\"minhaohui\")\n",
    "cat = Cat(\"sunzhengshuo\")\n",
    "print(dog.speak())\n",
    "print(cat.speak())"
   ]
  },
  {
   "cell_type": "code",
   "execution_count": null,
   "id": "16613a61-d4e9-42a7-88e5-7f6b786fec7b",
   "metadata": {},
   "outputs": [],
   "source": [
    "def animal_sound(animal):\n",
    "    print(animal.speak())\n",
    "    \n",
    "animal_sound(dog)\n",
    "animal_sound(cat)\n",
    "\n",
    "# 多态允许不同类的对象对统一消息做出响应"
   ]
  },
  {
   "cell_type": "markdown",
   "id": "95bb925c-7f38-442c-b3ac-d1646352066c",
   "metadata": {},
   "source": [
    "# 类方法和静态方法\n",
    "\n",
    "**类方法**\n",
    "\n",
    "- 概念：使用@classmethod装饰器的方法，他不接受实例作为第一个参数，而是接受类本身\n",
    "- 用途：通常用于构造函数的重载或者工厂模式\n",
    "\n",
    "**静态方法**\n",
    "\n",
    "- 概念：使用@staticmethod装饰器的方法，他不需要类或者实例的引用\n",
    "- 用途：当某个方法与类的核心功能无关，但又希望归类管理时使用\n",
    "\n",
    "**属性装饰器**\n",
    "\n",
    "- 使用@property装饰器可以将类的方法表现得像属性一样，这有助于实现数据的封装和验证。"
   ]
  },
  {
   "cell_type": "code",
   "execution_count": null,
   "id": "16ab00be-0c67-4bf1-8024-cbc48fce1e4c",
   "metadata": {},
   "outputs": [],
   "source": [
    "class Book:\n",
    "    def __init__(self,title,author):\n",
    "        self.title = title\n",
    "        self.author = author\n",
    "        \n",
    "    def __str__(self):\n",
    "        return f\"{self.title} by {self.author}\" \n",
    "    \n",
    "book = Book(\"1984\",\"George Orwell\")\n",
    "print(book)"
   ]
  },
  {
   "cell_type": "code",
   "execution_count": 12,
   "id": "0cfc4690-4423-4f35-8c2b-be9a4cae4b57",
   "metadata": {
    "collapsed": true,
    "jupyter": {
     "outputs_hidden": true
    },
    "tags": []
   },
   "outputs": [
    {
     "name": "stdin",
     "output_type": "stream",
     "text": [
      " 5 3 7 2 5 8 2\n"
     ]
    }
   ],
   "source": [
    "numbers = list(map(int,input().split()))"
   ]
  },
  {
   "cell_type": "code",
   "execution_count": 14,
   "id": "24209d6a-6f84-48e2-9e35-bd836f888cd7",
   "metadata": {},
   "outputs": [
    {
     "name": "stdout",
     "output_type": "stream",
     "text": [
      "2 3 5 7 8\n"
     ]
    }
   ],
   "source": [
    "def unique_and_sorted(nums):\n",
    "    nums = list(set(nums))\n",
    "    nums.sort()\n",
    "    return nums\n",
    "\n",
    "print(*unique_and_sorted(numbers))"
   ]
  },
  {
   "cell_type": "markdown",
   "id": "49d061cf-4fe3-41da-9265-9dd4087de571",
   "metadata": {
    "tags": []
   },
   "source": [
    "语法错误\n",
    "\n",
    "逻辑错误\n",
    "\n",
    "运行时错误\n",
    "使用try except捕捉异常并定位\n",
    "\n",
    "Traceback先读最后一行\n",
    "标注了错误的类型、发生的地方\n",
    "\n",
    "indexerror：尝试访问列表、元组、字符串索引超出实际范围\n",
    "keyerror：字典中访问不存在的键\n",
    "\n"
   ]
  },
  {
   "cell_type": "code",
   "execution_count": 1,
   "id": "0a1f1dd3-2ddb-467c-a2b7-b616199ea4b8",
   "metadata": {},
   "outputs": [
    {
     "ename": "IndexError",
     "evalue": "list index out of range",
     "output_type": "error",
     "traceback": [
      "\u001b[1;31m---------------------------------------------------------------------------\u001b[0m",
      "\u001b[1;31mIndexError\u001b[0m                                Traceback (most recent call last)",
      "\u001b[1;32m~\\AppData\\Local\\Temp\\ipykernel_14024\\130034552.py\u001b[0m in \u001b[0;36m<module>\u001b[1;34m\u001b[0m\n\u001b[0;32m      1\u001b[0m \u001b[0mmy_list\u001b[0m \u001b[1;33m=\u001b[0m \u001b[1;33m[\u001b[0m\u001b[1;36m1\u001b[0m\u001b[1;33m,\u001b[0m\u001b[1;36m2\u001b[0m\u001b[1;33m,\u001b[0m\u001b[1;36m3\u001b[0m\u001b[1;33m]\u001b[0m\u001b[1;33m\u001b[0m\u001b[1;33m\u001b[0m\u001b[0m\n\u001b[1;32m----> 2\u001b[1;33m \u001b[0mprint\u001b[0m\u001b[1;33m(\u001b[0m\u001b[0mmy_list\u001b[0m\u001b[1;33m[\u001b[0m\u001b[1;36m3\u001b[0m\u001b[1;33m]\u001b[0m\u001b[1;33m)\u001b[0m\u001b[1;33m\u001b[0m\u001b[1;33m\u001b[0m\u001b[0m\n\u001b[0m",
      "\u001b[1;31mIndexError\u001b[0m: list index out of range"
     ]
    }
   ],
   "source": [
    "my_list = [1,2,3]\n",
    "print(my_list[3])"
   ]
  },
  {
   "cell_type": "code",
   "execution_count": 2,
   "id": "3e915dee-d289-4d54-84f3-b1e792c9820f",
   "metadata": {},
   "outputs": [
    {
     "name": "stdout",
     "output_type": "stream",
     "text": [
      "Error: list index out of range\n"
     ]
    }
   ],
   "source": [
    "my_list = [1,2,3]\n",
    "try:\n",
    "    print(my_list[3])\n",
    "except IndexError as e:\n",
    "    print(\"Error:\",e)"
   ]
  },
  {
   "cell_type": "code",
   "execution_count": 4,
   "id": "de3bb8e9-be8a-495a-b49e-23724bccf8d4",
   "metadata": {},
   "outputs": [
    {
     "name": "stdout",
     "output_type": "stream",
     "text": [
      "Checked 1, max_num now 1\n",
      "Checked 2, max_num now 2\n",
      "Checked 3, max_num now 3\n",
      "Checked 4, max_num now 4\n",
      "4\n"
     ]
    }
   ],
   "source": [
    "# 寻找错误\n",
    "def find_max(nums):\n",
    "    max_num = None #应该初始化为列表中的一个值，而非None\n",
    "    for num in nums:\n",
    "        if max_num is None or num>max_num:\n",
    "            max_num = num\n",
    "        print(f\"Checked {num}, max_num now {max_num}\") #调试输出，主要找逻辑错误\n",
    "    return max_num\n",
    "\n",
    "print(find_max([1,2,3,4]))"
   ]
  },
  {
   "cell_type": "code",
   "execution_count": 7,
   "id": "e8bbd68b-afcd-49e8-8742-b64f3382bda6",
   "metadata": {},
   "outputs": [],
   "source": [
    "def divide(a,b):\n",
    "    if not isinstance(a,(int,float)) or not isinstance(b,(int,float)):\n",
    "        print(\"a and b must be int or float\")\n",
    "        return\n",
    "    if b == 0:\n",
    "        print(\"b cannot be 0\")\n",
    "        return\n",
    "    return a/b"
   ]
  },
  {
   "cell_type": "code",
   "execution_count": 9,
   "id": "041e7f62-83ad-43d8-94c8-e1b36af85a91",
   "metadata": {},
   "outputs": [
    {
     "name": "stdout",
     "output_type": "stream",
     "text": [
      "10除以2的结果是5.0。\n",
      "运算尝试完成\n",
      "不能除以0\n",
      "运算尝试完成\n",
      "所有的输入必须是数字\n",
      "运算尝试完成\n"
     ]
    }
   ],
   "source": [
    "def divide(a,b):\n",
    "    try:\n",
    "        result = a/b\n",
    "    except ZeroDivisionError:\n",
    "        print(\"不能除以0\")\n",
    "    except TypeError:\n",
    "        print(\"所有的输入必须是数字\")\n",
    "    else:\n",
    "        print(f\"{a}除以{b}的结果是{result}。\")\n",
    "    finally:\n",
    "        print(\"运算尝试完成\")\n",
    "        \n",
    "divide(10,2)\n",
    "divide(10,0)\n",
    "divide(\"10\",\"2\")"
   ]
  },
  {
   "cell_type": "code",
   "execution_count": 11,
   "id": "31be44d5-4f55-4b23-a48a-a43ea71b45e2",
   "metadata": {},
   "outputs": [
    {
     "name": "stdout",
     "output_type": "stream",
     "text": [
      "default_value\n"
     ]
    }
   ],
   "source": [
    "my_dict = {'a':1,'b' : 2}\n",
    "value = my_dict.get('c','default_value')\n",
    "print(value)"
   ]
  },
  {
   "cell_type": "code",
   "execution_count": 13,
   "id": "a81d3e2e-db16-4871-8009-207ce52bc8d8",
   "metadata": {},
   "outputs": [
    {
     "name": "stdout",
     "output_type": "stream",
     "text": [
      "Hello,Python\n"
     ]
    }
   ],
   "source": [
    "def greet(name: str) -> str:\n",
    "    return \"Hello,\" + name\n",
    "\n",
    "print(greet(\"Python\"))"
   ]
  },
  {
   "cell_type": "code",
   "execution_count": null,
   "id": "aa4975d3-ab1b-48d2-a4eb-025bab20a8bb",
   "metadata": {},
   "outputs": [],
   "source": [
    "assert len(array) != a.shape[0], \"形状不一样\"\n"
   ]
  },
  {
   "cell_type": "code",
   "execution_count": 14,
   "id": "95e660d2-2299-4a04-bca8-3bcd00686f40",
   "metadata": {},
   "outputs": [],
   "source": [
    "import logging\n",
    "\n",
    "logging.basicConfig(filename = 'app.log',level = logging.INFO)\n"
   ]
  },
  {
   "cell_type": "code",
   "execution_count": null,
   "id": "31137f88-13a5-4199-867a-d0dfe6a4b522",
   "metadata": {},
   "outputs": [],
   "source": []
  },
  {
   "cell_type": "code",
   "execution_count": null,
   "id": "d365e8cb-97e1-43ab-ac33-8f556cf3136d",
   "metadata": {},
   "outputs": [],
   "source": []
  },
  {
   "cell_type": "code",
   "execution_count": null,
   "id": "bc290338-a77e-4533-a936-26958c28899e",
   "metadata": {},
   "outputs": [],
   "source": []
  },
  {
   "cell_type": "code",
   "execution_count": null,
   "id": "b3dbf62f-f215-4951-8464-17b23f68b318",
   "metadata": {},
   "outputs": [],
   "source": []
  },
  {
   "cell_type": "code",
   "execution_count": null,
   "id": "fc5e0cdd-db47-4b5d-8a79-5a8b5fb59124",
   "metadata": {},
   "outputs": [],
   "source": []
  },
  {
   "cell_type": "code",
   "execution_count": null,
   "id": "8010f0c5-2cf2-400a-af12-78b8b51652e2",
   "metadata": {},
   "outputs": [],
   "source": []
  },
  {
   "cell_type": "code",
   "execution_count": null,
   "id": "f958fbb9-c390-4154-b2d6-04a2dbb9a47c",
   "metadata": {},
   "outputs": [],
   "source": []
  },
  {
   "cell_type": "code",
   "execution_count": null,
   "id": "9834b432-9592-4655-9f81-abc950e64ce0",
   "metadata": {},
   "outputs": [],
   "source": []
  },
  {
   "cell_type": "code",
   "execution_count": null,
   "id": "0a2d62e1-6ed3-4b8b-ac4b-57fee4253a59",
   "metadata": {},
   "outputs": [],
   "source": []
  }
 ],
 "metadata": {
  "kernelspec": {
   "display_name": "Python 3 (ipykernel)",
   "language": "python",
   "name": "python3"
  },
  "language_info": {
   "codemirror_mode": {
    "name": "ipython",
    "version": 3
   },
   "file_extension": ".py",
   "mimetype": "text/x-python",
   "name": "python",
   "nbconvert_exporter": "python",
   "pygments_lexer": "ipython3",
   "version": "3.9.13"
  }
 },
 "nbformat": 4,
 "nbformat_minor": 5
}
